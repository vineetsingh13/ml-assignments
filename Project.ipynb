{
  "nbformat": 4,
  "nbformat_minor": 0,
  "metadata": {
    "colab": {
      "provenance": []
    },
    "kernelspec": {
      "name": "python3",
      "display_name": "Python 3"
    },
    "language_info": {
      "name": "python"
    }
  },
  "cells": [
    {
      "cell_type": "code",
      "execution_count": null,
      "metadata": {
        "id": "53BpodsH34hO"
      },
      "outputs": [],
      "source": [
        "import numpy as np\n",
        "import pandas as pd\n",
        "import matplotlib.pyplot as plt"
      ]
    },
    {
      "cell_type": "code",
      "source": [
        "from google.colab import files\n",
        "files.upload()"
      ],
      "metadata": {
        "colab": {
          "base_uri": "https://localhost:8080/",
          "height": 402
        },
        "id": "IYgZij-F55uY",
        "outputId": "7293c145-4291-4633-cefd-f98fc08f1ca6"
      },
      "execution_count": null,
      "outputs": [
        {
          "output_type": "display_data",
          "data": {
            "text/plain": [
              "<IPython.core.display.HTML object>"
            ],
            "text/html": [
              "\n",
              "     <input type=\"file\" id=\"files-e9a96a06-2d1b-46ad-87f3-5e31f15cf9ff\" name=\"files[]\" multiple disabled\n",
              "        style=\"border:none\" />\n",
              "     <output id=\"result-e9a96a06-2d1b-46ad-87f3-5e31f15cf9ff\">\n",
              "      Upload widget is only available when the cell has been executed in the\n",
              "      current browser session. Please rerun this cell to enable.\n",
              "      </output>\n",
              "      <script>// Copyright 2017 Google LLC\n",
              "//\n",
              "// Licensed under the Apache License, Version 2.0 (the \"License\");\n",
              "// you may not use this file except in compliance with the License.\n",
              "// You may obtain a copy of the License at\n",
              "//\n",
              "//      http://www.apache.org/licenses/LICENSE-2.0\n",
              "//\n",
              "// Unless required by applicable law or agreed to in writing, software\n",
              "// distributed under the License is distributed on an \"AS IS\" BASIS,\n",
              "// WITHOUT WARRANTIES OR CONDITIONS OF ANY KIND, either express or implied.\n",
              "// See the License for the specific language governing permissions and\n",
              "// limitations under the License.\n",
              "\n",
              "/**\n",
              " * @fileoverview Helpers for google.colab Python module.\n",
              " */\n",
              "(function(scope) {\n",
              "function span(text, styleAttributes = {}) {\n",
              "  const element = document.createElement('span');\n",
              "  element.textContent = text;\n",
              "  for (const key of Object.keys(styleAttributes)) {\n",
              "    element.style[key] = styleAttributes[key];\n",
              "  }\n",
              "  return element;\n",
              "}\n",
              "\n",
              "// Max number of bytes which will be uploaded at a time.\n",
              "const MAX_PAYLOAD_SIZE = 100 * 1024;\n",
              "\n",
              "function _uploadFiles(inputId, outputId) {\n",
              "  const steps = uploadFilesStep(inputId, outputId);\n",
              "  const outputElement = document.getElementById(outputId);\n",
              "  // Cache steps on the outputElement to make it available for the next call\n",
              "  // to uploadFilesContinue from Python.\n",
              "  outputElement.steps = steps;\n",
              "\n",
              "  return _uploadFilesContinue(outputId);\n",
              "}\n",
              "\n",
              "// This is roughly an async generator (not supported in the browser yet),\n",
              "// where there are multiple asynchronous steps and the Python side is going\n",
              "// to poll for completion of each step.\n",
              "// This uses a Promise to block the python side on completion of each step,\n",
              "// then passes the result of the previous step as the input to the next step.\n",
              "function _uploadFilesContinue(outputId) {\n",
              "  const outputElement = document.getElementById(outputId);\n",
              "  const steps = outputElement.steps;\n",
              "\n",
              "  const next = steps.next(outputElement.lastPromiseValue);\n",
              "  return Promise.resolve(next.value.promise).then((value) => {\n",
              "    // Cache the last promise value to make it available to the next\n",
              "    // step of the generator.\n",
              "    outputElement.lastPromiseValue = value;\n",
              "    return next.value.response;\n",
              "  });\n",
              "}\n",
              "\n",
              "/**\n",
              " * Generator function which is called between each async step of the upload\n",
              " * process.\n",
              " * @param {string} inputId Element ID of the input file picker element.\n",
              " * @param {string} outputId Element ID of the output display.\n",
              " * @return {!Iterable<!Object>} Iterable of next steps.\n",
              " */\n",
              "function* uploadFilesStep(inputId, outputId) {\n",
              "  const inputElement = document.getElementById(inputId);\n",
              "  inputElement.disabled = false;\n",
              "\n",
              "  const outputElement = document.getElementById(outputId);\n",
              "  outputElement.innerHTML = '';\n",
              "\n",
              "  const pickedPromise = new Promise((resolve) => {\n",
              "    inputElement.addEventListener('change', (e) => {\n",
              "      resolve(e.target.files);\n",
              "    });\n",
              "  });\n",
              "\n",
              "  const cancel = document.createElement('button');\n",
              "  inputElement.parentElement.appendChild(cancel);\n",
              "  cancel.textContent = 'Cancel upload';\n",
              "  const cancelPromise = new Promise((resolve) => {\n",
              "    cancel.onclick = () => {\n",
              "      resolve(null);\n",
              "    };\n",
              "  });\n",
              "\n",
              "  // Wait for the user to pick the files.\n",
              "  const files = yield {\n",
              "    promise: Promise.race([pickedPromise, cancelPromise]),\n",
              "    response: {\n",
              "      action: 'starting',\n",
              "    }\n",
              "  };\n",
              "\n",
              "  cancel.remove();\n",
              "\n",
              "  // Disable the input element since further picks are not allowed.\n",
              "  inputElement.disabled = true;\n",
              "\n",
              "  if (!files) {\n",
              "    return {\n",
              "      response: {\n",
              "        action: 'complete',\n",
              "      }\n",
              "    };\n",
              "  }\n",
              "\n",
              "  for (const file of files) {\n",
              "    const li = document.createElement('li');\n",
              "    li.append(span(file.name, {fontWeight: 'bold'}));\n",
              "    li.append(span(\n",
              "        `(${file.type || 'n/a'}) - ${file.size} bytes, ` +\n",
              "        `last modified: ${\n",
              "            file.lastModifiedDate ? file.lastModifiedDate.toLocaleDateString() :\n",
              "                                    'n/a'} - `));\n",
              "    const percent = span('0% done');\n",
              "    li.appendChild(percent);\n",
              "\n",
              "    outputElement.appendChild(li);\n",
              "\n",
              "    const fileDataPromise = new Promise((resolve) => {\n",
              "      const reader = new FileReader();\n",
              "      reader.onload = (e) => {\n",
              "        resolve(e.target.result);\n",
              "      };\n",
              "      reader.readAsArrayBuffer(file);\n",
              "    });\n",
              "    // Wait for the data to be ready.\n",
              "    let fileData = yield {\n",
              "      promise: fileDataPromise,\n",
              "      response: {\n",
              "        action: 'continue',\n",
              "      }\n",
              "    };\n",
              "\n",
              "    // Use a chunked sending to avoid message size limits. See b/62115660.\n",
              "    let position = 0;\n",
              "    do {\n",
              "      const length = Math.min(fileData.byteLength - position, MAX_PAYLOAD_SIZE);\n",
              "      const chunk = new Uint8Array(fileData, position, length);\n",
              "      position += length;\n",
              "\n",
              "      const base64 = btoa(String.fromCharCode.apply(null, chunk));\n",
              "      yield {\n",
              "        response: {\n",
              "          action: 'append',\n",
              "          file: file.name,\n",
              "          data: base64,\n",
              "        },\n",
              "      };\n",
              "\n",
              "      let percentDone = fileData.byteLength === 0 ?\n",
              "          100 :\n",
              "          Math.round((position / fileData.byteLength) * 100);\n",
              "      percent.textContent = `${percentDone}% done`;\n",
              "\n",
              "    } while (position < fileData.byteLength);\n",
              "  }\n",
              "\n",
              "  // All done.\n",
              "  yield {\n",
              "    response: {\n",
              "      action: 'complete',\n",
              "    }\n",
              "  };\n",
              "}\n",
              "\n",
              "scope.google = scope.google || {};\n",
              "scope.google.colab = scope.google.colab || {};\n",
              "scope.google.colab._files = {\n",
              "  _uploadFiles,\n",
              "  _uploadFilesContinue,\n",
              "};\n",
              "})(self);\n",
              "</script> "
            ]
          },
          "metadata": {}
        },
        {
          "output_type": "stream",
          "name": "stdout",
          "text": [
            "Saving hospital_data.csv to hospital_data.csv\n"
          ]
        },
        {
          "output_type": "execute_result",
          "data": {
            "text/plain": [
              "{'hospital_data.csv': b'\\xef\\xbb\\xbfSL.,AGE,GENDER,MARITAL STATUS,KEY COMPLAINTS -CODE,BODY WEIGHT,BODY HEIGHT,HR PULSE,RR,TOTAL COST TO HOSPITAL \\r\\n1,58,M,MARRIED,other,49,160,118,32,660293\\r\\n2,59,M,MARRIED,CAD,41,155,78,28,809130\\r\\n3,82,M,MARRIED,CAD,47,164,100,20,362231\\r\\n4,46,M,MARRIED,CAD,80,173,122,24,629990\\r\\n5,60,M,MARRIED,CAD,58,175,72,18,444876\\r\\n6,75,M,MARRIED,CAD,45,140,130,42,372357\\r\\n7,73,M,MARRIED,CAD,60,170,108,24,887350\\r\\n8,71,M,MARRIED,CAD,44,164,60,22,389827\\r\\n9,72,M,MARRIED,CAD,72,174,95,25,437529.07\\r\\n10,61,M,MARRIED,CAD,77,175,66,22,364222\\r\\n11,61,M,MARRIED,CAD,64,170,99,24,514524\\r\\n12,45,F,MARRIED,other,50,151,60,19,539976\\r\\n13,40,M,MARRIED,RHD,71,165,100,22,711616\\r\\n14,64,M,MARRIED,None,56,168,105,22,420040\\r\\n15,68,F,UNMARRIED,CAD,51,123,66,20,495968.7\\r\\n16,78,F,MARRIED,CAD,70,154,63,20,157763\\r\\n17,65,M,MARRIED,CAD,65,140,93,18,501897\\r\\n18,59,F,MARRIED,RHD,47,150,60,24,343984\\r\\n19,76,M,MARRIED,CAD,67,172,80,20,449395\\r\\n20,47,M,MARRIED,CAD,59,160,80,20,214716\\r\\n21,54,F,MARRIED,CAD,51,147,110,26,341109\\r\\n22,62,M,MARRIED,CAD,74,160,60,24,288960\\r\\n23,60,M,MARRIED,CAD,73,172,104,24,348687\\r\\n24,70,M,MARRIED,CAD,60,158,81,18,345590\\r\\n25,60,F,MARRIED,CAD,53,155,85,30,361738\\r\\n26,88,M,MARRIED,CAD,62,162,92,22,305193\\r\\n27,15,M,UNMARRIED,RHD,44,170,134,40,404644\\r\\n28,47,M,MARRIED,CAD,73,171,87,22,278213.73\\r\\n29,70,M,MARRIED,CAD,68,163,78,20,355276\\r\\n30,61,M,MARRIED,CAD,60,169,60,24,229289\\r\\n31,46,M,MARRIED,CAD,53,159,96,20,247473\\r\\n32,56,M,MARRIED,CAD,61,163,73,24,395163\\r\\n33,61,M,MARRIED,CAD,65,170,76,26,418429\\r\\n34,7,M,UNMARRIED,other,7,68,155,30,359280\\r\\n35,70,M,MARRIED,other,60,160,43,13,349318\\r\\n36,0.83,M,UNMARRIED,other,6,68,120,22,551809\\r\\n37,0.83,M,MARRIED,CAD,78,173,82,24,293127\\r\\n38,63,F,MARRIED,other,59,162,76,15,260036\\r\\n39,55,M,MARRIED,CAD,76,155,72,28,163765\\r\\n40,67,M,MARRIED,None,57,167,90,24,162364\\r\\n41,62,M,MARRIED,CAD,72,172,63,26,144037.23\\r\\n42,69,M,MARRIED,other,73,160,67,29,183204\\r\\n43,67,F,MARRIED,other,59,138,88,28,164962\\r\\n44,50,M,MARRIED,None,65,155,59,20,178100\\r\\n45,3,M,UNMARRIED,other,10,85,120,24,169726.43\\r\\n46,78,M,MARRIED,None,48,158,88,20,164719\\r\\n47,39,F,MARRIED,None,77,153,86,26,133130\\r\\n48,64,M,MARRIED,None,68,162,60,24,146308.6\\r\\n49,53,M,MARRIED,None,55,156,80,20,134497.65\\r\\n50,1,M,UNMARRIED,other,5,66,100,24,206500.95\\r\\n51,55,M,MARRIED,None,78,163,100,22,120131\\r\\n52,56,M,MARRIED,None,56,162,82,24,176340.75\\r\\n53,71,M,MARRIED,CAD,56,160,72,20,138923\\r\\n54,48,M,MARRIED,None,64,158,74,22,162957.32\\r\\n55,53,M,MARRIED,None,59,159,68,16,133009\\r\\n56,69,M,MARRIED,None,56,166,84,24,163483\\r\\n57,25,M,MARRIED,other,47,170,78,24,131837\\r\\n58,10,M,UNMARRIED,None,6,64,96,26,163372\\r\\n59,12,F,UNMARRIED,None,32,149,82,24,128104.37\\r\\n60,10,F,UNMARRIED,None,23,137,90,22,115908\\r\\n61,14,F,UNMARRIED,None,49,149,111,26,129474.64\\r\\n62,7,M,UNMARRIED,None,19,107,100,26,152184\\r\\n63,13,M,UNMARRIED,None,22,133,90,32,122892\\r\\n64,12,F,UNMARRIED,other,35,140,102,26,124804\\r\\n65,11,M,UNMARRIED,None,26,140,90,20,142552\\r\\n66,5,M,UNMARRIED,other,15,105,115,26,128196\\r\\n67,33,F,MARRIED,None,63,147,68,24,109085.84\\r\\n68,21,F,UNMARRIED,None,51,153,74,24,109452\\r\\n69,3,M,UNMARRIED,other,13,85,120,24,125643\\r\\n70,12,M,UNMARRIED,None,25,134,92,24,120064\\r\\n71,12,M,UNMARRIED,None,27,144,72,22,114580\\r\\n72,5,F,UNMARRIED,other,15,117,80,24,119935.36\\r\\n73,14,F,UNMARRIED,None,49,149,111,26,129474.64\\r\\n74,7,M,UNMARRIED,None,19,107,100,26,152184\\r\\n75,13,M,UNMARRIED,None,22,133,90,32,122892\\r\\n76,5,M,UNMARRIED,other,15,105,115,26,128196\\r\\n77,33,F,MARRIED,None,63,147,68,24,109085.84\\r\\n78,3,M,UNMARRIED,other,13,84,120,24,125643\\r\\n79,12,M,UNMARRIED,None,25,134,92,24,120064\\r\\n80,12,M,UNMARRIED,None,27,144,72,22,114580\\r\\n81,5,F,UNMARRIED,other,15,117,80,24,119935.36\\r\\n82,51,M,MARRIED,CAD,56,148,69,23,199268\\r\\n83,51,F,MARRIED,RHD,58,153,90,24,341011\\r\\n84,62,F,MARRIED,RHD,45,155,87,24,334955\\r\\n85,7,F,UNMARRIED,other,20,114,132,26,258138\\r\\n86,19,F,UNMARRIED,RHD,50,156,72,22,275888\\r\\n87,0.58,F,UNMARRIED,other,6,57,150,28,308817\\r\\n88,42,M,MARRIED,RHD,45,172,127,23,294615.9\\r\\n89,16,F,UNMARRIED,other,31,150,72,22,156576.85\\r\\n90,3,F,UNMARRIED,other,9,81,99,20,109575.6\\r\\n91,2,F,UNMARRIED,other,12,86,104,24,209292\\r\\n92,3,M,UNMARRIED,ACHD,13,85,140,24,195136\\r\\n93,1,M,UNMARRIED,other,6,65,116,34,265243\\r\\n94,65,F,MARRIED,ACHD,43,155,101,24,201219\\r\\n95,7,M,UNMARRIED,other,14,112,80,22,179720\\r\\n96,70,M,MARRIED,CAD,58,171,68,20,143278.83\\r\\n97,49,M,MARRIED,ACHD,56,155,84,24,214679\\r\\n98,2,F,UNMARRIED,other,8,80,112,30,165000\\r\\n99,55,M,MARRIED,CAD,59,171,84,20,262582\\r\\n100,1,M,UNMARRIED,other,11,76,102,28,208535.71\\r\\n101,2,M,UNMARRIED,ACHD,9,81,119,32,179613.25\\r\\n102,8,M,UNMARRIED,other,17,128,82,28,151156.52\\r\\n103,2,M,UNMARRIED,other,10,74,98,24,189701.55\\r\\n104,3,M,UNMARRIED,other,13,88,120,22,169951\\r\\n105,46,F,MARRIED,RHD,54,167,110,24,220519\\r\\n106,45,F,MARRIED,other,41,152,88,20,139723\\r\\n107,48,F,MARRIED,ACHD,42,154,76,24,119685.64\\r\\n108,41,F,MARRIED,RHD,64,162,62,22,253471\\r\\n109,7,M,UNMARRIED,other,16,106,90,22,129684\\r\\n110,4,F,UNMARRIED,other,11,93,104,24,167122\\r\\n111,69,M,MARRIED,other,60,185,90,22,276458\\r\\n112,6,M,UNMARRIED,ACHD,18,115,75,22,150337\\r\\n113,44,F,MARRIED,ACHD,60,157,86,22,138093.02\\r\\n114,9,F,UNMARRIED,other,5,71,104,24,178398\\r\\n115,36,M,MARRIED,RHD,50,168,60,24,180870\\r\\n116,37,M,MARRIED,other,46,62,96,20,182651\\r\\n117,16,F,UNMARRIED,other,41,162,74,24,323960\\r\\n118,5,M,UNMARRIED,other,3,22,140,30,159327.38\\r\\n119,5,M,UNMARRIED,other,15,98,123,24,131430\\r\\n120,3,F,UNMARRIED,other,10,85,116,24,180415.67\\r\\n121,51,M,MARRIED,CAD,64,168,80,24,139067\\r\\n122,24,F,MARRIED,RHD,43,159,68,22,197865\\r\\n123,8,M,UNMARRIED,other,18,117,83,24,144900.3\\r\\n124,4,M,UNMARRIED,other,15,99,102,24,202633.9\\r\\n125,46,F,MARRIED,RHD,43,147,97,22,232676\\r\\n126,48,M,MARRIED,OS-ASD,60,155,60,24,127899\\r\\n127,8,M,UNMARRIED,other,18,118,106,24,145362\\r\\n128,7,M,UNMARRIED,other,19,115,80,24,165335.52\\r\\n129,16,M,UNMARRIED,RHD,40,160,120,24,233266\\r\\n130,1,M,UNMARRIED,other,10,29,92,24,153445\\r\\n131,14,F,UNMARRIED,RHD,36,160,125,26,135216\\r\\n132,12,F,UNMARRIED,ACHD,41,154,84,20,117185\\r\\n133,16,F,UNMARRIED,None,45,163,85,20,108989\\r\\n134,12,F,UNMARRIED,other,32,151,102,24,148652\\r\\n135,2,F,UNMARRIED,ACHD,7,77,126,30,79302\\r\\n136,6,M,UNMARRIED,other,16,105,110,20,147132\\r\\n137,5,M,UNMARRIED,ACHD,15,105,124,26,131738.27\\r\\n138,8,F,UNMARRIED,other,21,127,110,24,146355\\r\\n139,11,M,UNMARRIED,other,16,120,98,24,97060.8\\r\\n140,55,F,MARRIED,other,60,160,92,20,84002.5\\r\\n141,1,M,UNMARRIED,other,8,72,120,24,106070\\r\\n142,14,F,UNMARRIED,OS-ASD,37,155,84,22,123187.9\\r\\n143,6,F,UNMARRIED,other,18,120,82,24,120367.81\\r\\n144,8,M,UNMARRIED,other,22,130,98,24,140372\\r\\n145,8,M,UNMARRIED,other,18,112,100,30,102852\\r\\n146,1,F,UNMARRIED,other,7,68,112,24,154669\\r\\n147,8,M,UNMARRIED,OS-ASD,24,126,100,24,115935.54\\r\\n148,10,M,UNMARRIED,ACHD,23,129,108,28,113706.2\\r\\n149,6,M,UNMARRIED,other,19,111,90,28,138769.38\\r\\n150,5,F,UNMARRIED,other,14,109,101,22,61340\\r\\n151,6,F,UNMARRIED,ACHD,17,114,88,24,72374\\r\\n152,3,M,UNMARRIED,other,11,91,102,20,143773.58\\r\\n153,2,M,UNMARRIED,other,11,98,128,24,142326.04\\r\\n154,3,M,UNMARRIED,CAD,13,93,104,22,140545\\r\\n155,1,F,UNMARRIED,other,9,78,100,30,57140.85\\r\\n156,5,F,UNMARRIED,other,15,99,80,20,131727\\r\\n157,4,F,UNMARRIED,OS-ASD,13,27,120,24,132226\\r\\n158,0.03,M,UNMARRIED,other,2,45,120,32,77241\\r\\n159,74,M,MARRIED,other,64,155,102,24,55885.7\\r\\n160,12,M,UNMARRIED,other,24,130,90,22,49700\\r\\n161,6,M,UNMARRIED,RHD,18,114,102,28,155352\\r\\n162,5,M,UNMARRIED,other,15,105,110,32,288614.2\\r\\n163,6,M,UNMARRIED,other,13,39,80,24,239570.4\\r\\n164,13,F,UNMARRIED,other,31,145,100,24,170302\\r\\n165,9,F,UNMARRIED,OS-ASD,20,50,90,24,141232.17\\r\\n166,51,M,MARRIED,CAD,47,152,67,12,102537.85\\r\\n167,74,M,MARRIED,CAD,57,157,94,20,219126.24\\r\\n168,27,M,UNMARRIED,RHD,60,166,68,25,204852.36\\r\\n169,55,M,MARRIED,CAD,65,167,74,18,253368\\r\\n170,70,M,MARRIED,CAD,55,168,68,22,162271\\r\\n171,31,F,UNMARRIED,RHD,44,155,80,22,293271\\r\\n172,14,F,UNMARRIED,OS-ASD,20,122,76,22,162957\\r\\n173,2,F,UNMARRIED,other,9,74,110,24,137273\\r\\n174,44,M,MARRIED,CAD,67,172,78,24,199677\\r\\n175,13,M,UNMARRIED,other,29,147,112,22,161017\\r\\n176,16,F,UNMARRIED,RHD,36,148,78,26,199790\\r\\n177,65,M,MARRIED,None,62,160,41,32,159882\\r\\n178,7,F,UNMARRIED,other,15,19,96,24,64929\\r\\n179,4,M,UNMARRIED,None,10,87,120,28,180728\\r\\n180,45,M,MARRIED,CAD,55,156,72,20,144134\\r\\n181,13,M,UNMARRIED,OS-ASD,22,139,80,18,160250\\r\\n182,38,F,MARRIED,RHD,56,150,68,24,193543\\r\\n183,0.42,M,UNMARRIED,other,5,66,100,24,233376\\r\\n184,21,F,MARRIED,RHD,37,154,76,20,166709\\r\\n185,13,M,UNMARRIED,OS-ASD,25,130,118,22,133873\\r\\n186,11,M,UNMARRIED,OS-ASD,33,165,88,24,133087\\r\\n187,57,M,MARRIED,CAD,82,165,68,20,178428\\r\\n188,56,M,MARRIED,CAD,85,173,100,20,191102\\r\\n189,3,M,UNMARRIED,other,13,88,110,24,168670\\r\\n190,2,M,UNMARRIED,OS-ASD,11,83,96,28,163914\\r\\n191,63,M,MARRIED,other,62,172,98,20,241130\\r\\n192,68,M,MARRIED,CAD,64,154,80,20,138535\\r\\n193,16,M,UNMARRIED,None,43,163,84,24,119348\\r\\n194,63,M,MARRIED,CAD,54,157,76,15,154354\\r\\n195,3,M,UNMARRIED,other,13,53,88,18,119877\\r\\n196,1,F,UNMARRIED,other,9,80,100,18,135019\\r\\n197,1,F,UNMARRIED,ACHD,6,72,92,24,176383\\r\\n198,2,F,UNMARRIED,other,11,78,126,24,233522\\r\\n199,7,M,UNMARRIED,other,16,110,126,26,132585\\r\\n200,1,M,UNMARRIED,other,9,29,103,26,170654\\r\\n201,9,M,UNMARRIED,ACHD,21,128,75,22,119776\\r\\n202,6,F,UNMARRIED,ACHD,22,121,96,20,109117\\r\\n203,7,M,UNMARRIED,other,24,129,104,24,174074\\r\\n204,10,M,UNMARRIED,other,6,26,120,26,169641\\r\\n205,12,F,UNMARRIED,other,26,55,58,26,58943\\r\\n206,1,M,UNMARRIED,other,9,80,100,30,136040\\r\\n207,1,F,UNMARRIED,other,8,74,100,24,78215\\r\\n208,4,M,UNMARRIED,other,15,105,100,24,73218\\r\\n209,4,M,UNMARRIED,ACHD,14,98,93,28,51009\\r\\n210,61,M,MARRIED,RHD,49,160,76,24,210622\\r\\n211,20,M,UNMARRIED,RHD,54,171,84,20,260869\\r\\n212,0.67,F,UNMARRIED,ACHD,2,47,134,34,48156\\r\\n213,3,M,UNMARRIED,other,15,100,90,22,69509\\r\\n214,1,F,UNMARRIED,ACHD,10,78,112,22,46093\\r\\n215,56,M,MARRIED,CAD,78,169,70,20,188824\\r\\n216,45,M,MARRIED,CAD,70,160,70,24,143482\\r\\n217,11,M,UNMARRIED,other,19,124,120,22,220899\\r\\n218,58,M,MARRIED,CAD,63,156,72,14,151931\\r\\n219,20,F,UNMARRIED,RHD,45,147,88,22,156374\\r\\n220,1,F,UNMARRIED,other,10,70,108,24,238320\\r\\n221,24,M,UNMARRIED,OS-ASD,75,158,78,20,205998\\r\\n222,44,M,MARRIED,None,62,165,80,24,78251\\r\\n223,17,M,UNMARRIED,other,47,158,76,22,175576\\r\\n224,26,M,MARRIED,other,41,158,68,24,177874\\r\\n225,0.92,F,UNMARRIED,other,6,76,90,24,144731\\r\\n226,55,M,MARRIED,ACHD,55,164,96,24,178037\\r\\n227,9,F,UNMARRIED,OS-ASD,23,132,100,20,114513\\r\\n228,65,M,MARRIED,CAD,71,164,85,19,212287\\r\\n229,4,F,UNMARRIED,other,10,81,120,24,145697\\r\\n230,0.92,M,UNMARRIED,other,6,76,130,24,146700\\r\\n231,7,F,UNMARRIED,OS-ASD,15,117,114,24,133436\\r\\n232,65,F,MARRIED,other,36,138,88,24,147021\\r\\n233,59,M,MARRIED,CAD,78,160,78,24,149462\\r\\n234,50,M,UNMARRIED,CAD,64,158,82,12,186450\\r\\n235,34,F,MARRIED,RHD,41,155,88,22,180713\\r\\n236,19,M,UNMARRIED,OS-ASD,41,156,72,18,135612\\r\\n237,15,M,UNMARRIED,RHD,52,170,82,24,209886\\r\\n238,10,M,UNMARRIED,other,7,75,135,24,123320\\r\\n239,53,F,MARRIED,OS-ASD,50,164,64,24,132997\\r\\n240,11,F,UNMARRIED,other,29,139,98,24,124860\\r\\n241,5,M,UNMARRIED,other,17,118,118,24,118607\\r\\n242,52,M,MARRIED,None,54,162,80,20,248031\\r\\n243,72,M,MARRIED,None,62,165,112,21,73682\\r\\n244,51,M,MARRIED,other,69,176,62,24,295155\\r\\n245,58,M,MARRIED,CAD,57,159,58,24,200321\\r\\n246,44,M,MARRIED,CAD,58,159,68,24,191188\\r\\n247,60,M,MARRIED,other,65,165,98,17,202807\\r\\n248,30,M,MARRIED,RHD,71,180,87,20,248112\\r\\n'}"
            ]
          },
          "metadata": {},
          "execution_count": 3
        }
      ]
    },
    {
      "cell_type": "code",
      "source": [
        "data = pd.read_csv('hospital_data.csv')\n",
        "data.head()"
      ],
      "metadata": {
        "colab": {
          "base_uri": "https://localhost:8080/",
          "height": 206
        },
        "id": "VbySxZIC6EK3",
        "outputId": "0b7133ce-1983-4428-a891-b819c2aac50e"
      },
      "execution_count": null,
      "outputs": [
        {
          "output_type": "execute_result",
          "data": {
            "text/plain": [
              "   SL.   AGE GENDER MARITAL STATUS KEY COMPLAINTS -CODE  BODY WEIGHT  \\\n",
              "0    1  58.0      M        MARRIED                other           49   \n",
              "1    2  59.0      M        MARRIED                  CAD           41   \n",
              "2    3  82.0      M        MARRIED                  CAD           47   \n",
              "3    4  46.0      M        MARRIED                  CAD           80   \n",
              "4    5  60.0      M        MARRIED                  CAD           58   \n",
              "\n",
              "   BODY HEIGHT  HR PULSE  RR  TOTAL COST TO HOSPITAL   \n",
              "0          160       118  32                 660293.0  \n",
              "1          155        78  28                 809130.0  \n",
              "2          164       100  20                 362231.0  \n",
              "3          173       122  24                 629990.0  \n",
              "4          175        72  18                 444876.0  "
            ],
            "text/html": [
              "\n",
              "  <div id=\"df-14e9480f-6064-44b1-8190-4fe569ff9f35\" class=\"colab-df-container\">\n",
              "    <div>\n",
              "<style scoped>\n",
              "    .dataframe tbody tr th:only-of-type {\n",
              "        vertical-align: middle;\n",
              "    }\n",
              "\n",
              "    .dataframe tbody tr th {\n",
              "        vertical-align: top;\n",
              "    }\n",
              "\n",
              "    .dataframe thead th {\n",
              "        text-align: right;\n",
              "    }\n",
              "</style>\n",
              "<table border=\"1\" class=\"dataframe\">\n",
              "  <thead>\n",
              "    <tr style=\"text-align: right;\">\n",
              "      <th></th>\n",
              "      <th>SL.</th>\n",
              "      <th>AGE</th>\n",
              "      <th>GENDER</th>\n",
              "      <th>MARITAL STATUS</th>\n",
              "      <th>KEY COMPLAINTS -CODE</th>\n",
              "      <th>BODY WEIGHT</th>\n",
              "      <th>BODY HEIGHT</th>\n",
              "      <th>HR PULSE</th>\n",
              "      <th>RR</th>\n",
              "      <th>TOTAL COST TO HOSPITAL</th>\n",
              "    </tr>\n",
              "  </thead>\n",
              "  <tbody>\n",
              "    <tr>\n",
              "      <th>0</th>\n",
              "      <td>1</td>\n",
              "      <td>58.0</td>\n",
              "      <td>M</td>\n",
              "      <td>MARRIED</td>\n",
              "      <td>other</td>\n",
              "      <td>49</td>\n",
              "      <td>160</td>\n",
              "      <td>118</td>\n",
              "      <td>32</td>\n",
              "      <td>660293.0</td>\n",
              "    </tr>\n",
              "    <tr>\n",
              "      <th>1</th>\n",
              "      <td>2</td>\n",
              "      <td>59.0</td>\n",
              "      <td>M</td>\n",
              "      <td>MARRIED</td>\n",
              "      <td>CAD</td>\n",
              "      <td>41</td>\n",
              "      <td>155</td>\n",
              "      <td>78</td>\n",
              "      <td>28</td>\n",
              "      <td>809130.0</td>\n",
              "    </tr>\n",
              "    <tr>\n",
              "      <th>2</th>\n",
              "      <td>3</td>\n",
              "      <td>82.0</td>\n",
              "      <td>M</td>\n",
              "      <td>MARRIED</td>\n",
              "      <td>CAD</td>\n",
              "      <td>47</td>\n",
              "      <td>164</td>\n",
              "      <td>100</td>\n",
              "      <td>20</td>\n",
              "      <td>362231.0</td>\n",
              "    </tr>\n",
              "    <tr>\n",
              "      <th>3</th>\n",
              "      <td>4</td>\n",
              "      <td>46.0</td>\n",
              "      <td>M</td>\n",
              "      <td>MARRIED</td>\n",
              "      <td>CAD</td>\n",
              "      <td>80</td>\n",
              "      <td>173</td>\n",
              "      <td>122</td>\n",
              "      <td>24</td>\n",
              "      <td>629990.0</td>\n",
              "    </tr>\n",
              "    <tr>\n",
              "      <th>4</th>\n",
              "      <td>5</td>\n",
              "      <td>60.0</td>\n",
              "      <td>M</td>\n",
              "      <td>MARRIED</td>\n",
              "      <td>CAD</td>\n",
              "      <td>58</td>\n",
              "      <td>175</td>\n",
              "      <td>72</td>\n",
              "      <td>18</td>\n",
              "      <td>444876.0</td>\n",
              "    </tr>\n",
              "  </tbody>\n",
              "</table>\n",
              "</div>\n",
              "    <div class=\"colab-df-buttons\">\n",
              "\n",
              "  <div class=\"colab-df-container\">\n",
              "    <button class=\"colab-df-convert\" onclick=\"convertToInteractive('df-14e9480f-6064-44b1-8190-4fe569ff9f35')\"\n",
              "            title=\"Convert this dataframe to an interactive table.\"\n",
              "            style=\"display:none;\">\n",
              "\n",
              "  <svg xmlns=\"http://www.w3.org/2000/svg\" height=\"24px\" viewBox=\"0 -960 960 960\">\n",
              "    <path d=\"M120-120v-720h720v720H120Zm60-500h600v-160H180v160Zm220 220h160v-160H400v160Zm0 220h160v-160H400v160ZM180-400h160v-160H180v160Zm440 0h160v-160H620v160ZM180-180h160v-160H180v160Zm440 0h160v-160H620v160Z\"/>\n",
              "  </svg>\n",
              "    </button>\n",
              "\n",
              "  <style>\n",
              "    .colab-df-container {\n",
              "      display:flex;\n",
              "      gap: 12px;\n",
              "    }\n",
              "\n",
              "    .colab-df-convert {\n",
              "      background-color: #E8F0FE;\n",
              "      border: none;\n",
              "      border-radius: 50%;\n",
              "      cursor: pointer;\n",
              "      display: none;\n",
              "      fill: #1967D2;\n",
              "      height: 32px;\n",
              "      padding: 0 0 0 0;\n",
              "      width: 32px;\n",
              "    }\n",
              "\n",
              "    .colab-df-convert:hover {\n",
              "      background-color: #E2EBFA;\n",
              "      box-shadow: 0px 1px 2px rgba(60, 64, 67, 0.3), 0px 1px 3px 1px rgba(60, 64, 67, 0.15);\n",
              "      fill: #174EA6;\n",
              "    }\n",
              "\n",
              "    .colab-df-buttons div {\n",
              "      margin-bottom: 4px;\n",
              "    }\n",
              "\n",
              "    [theme=dark] .colab-df-convert {\n",
              "      background-color: #3B4455;\n",
              "      fill: #D2E3FC;\n",
              "    }\n",
              "\n",
              "    [theme=dark] .colab-df-convert:hover {\n",
              "      background-color: #434B5C;\n",
              "      box-shadow: 0px 1px 3px 1px rgba(0, 0, 0, 0.15);\n",
              "      filter: drop-shadow(0px 1px 2px rgba(0, 0, 0, 0.3));\n",
              "      fill: #FFFFFF;\n",
              "    }\n",
              "  </style>\n",
              "\n",
              "    <script>\n",
              "      const buttonEl =\n",
              "        document.querySelector('#df-14e9480f-6064-44b1-8190-4fe569ff9f35 button.colab-df-convert');\n",
              "      buttonEl.style.display =\n",
              "        google.colab.kernel.accessAllowed ? 'block' : 'none';\n",
              "\n",
              "      async function convertToInteractive(key) {\n",
              "        const element = document.querySelector('#df-14e9480f-6064-44b1-8190-4fe569ff9f35');\n",
              "        const dataTable =\n",
              "          await google.colab.kernel.invokeFunction('convertToInteractive',\n",
              "                                                    [key], {});\n",
              "        if (!dataTable) return;\n",
              "\n",
              "        const docLinkHtml = 'Like what you see? Visit the ' +\n",
              "          '<a target=\"_blank\" href=https://colab.research.google.com/notebooks/data_table.ipynb>data table notebook</a>'\n",
              "          + ' to learn more about interactive tables.';\n",
              "        element.innerHTML = '';\n",
              "        dataTable['output_type'] = 'display_data';\n",
              "        await google.colab.output.renderOutput(dataTable, element);\n",
              "        const docLink = document.createElement('div');\n",
              "        docLink.innerHTML = docLinkHtml;\n",
              "        element.appendChild(docLink);\n",
              "      }\n",
              "    </script>\n",
              "  </div>\n",
              "\n",
              "\n",
              "<div id=\"df-4add5bb6-259f-4617-b324-8041dbfe158e\">\n",
              "  <button class=\"colab-df-quickchart\" onclick=\"quickchart('df-4add5bb6-259f-4617-b324-8041dbfe158e')\"\n",
              "            title=\"Suggest charts\"\n",
              "            style=\"display:none;\">\n",
              "\n",
              "<svg xmlns=\"http://www.w3.org/2000/svg\" height=\"24px\"viewBox=\"0 0 24 24\"\n",
              "     width=\"24px\">\n",
              "    <g>\n",
              "        <path d=\"M19 3H5c-1.1 0-2 .9-2 2v14c0 1.1.9 2 2 2h14c1.1 0 2-.9 2-2V5c0-1.1-.9-2-2-2zM9 17H7v-7h2v7zm4 0h-2V7h2v10zm4 0h-2v-4h2v4z\"/>\n",
              "    </g>\n",
              "</svg>\n",
              "  </button>\n",
              "\n",
              "<style>\n",
              "  .colab-df-quickchart {\n",
              "      --bg-color: #E8F0FE;\n",
              "      --fill-color: #1967D2;\n",
              "      --hover-bg-color: #E2EBFA;\n",
              "      --hover-fill-color: #174EA6;\n",
              "      --disabled-fill-color: #AAA;\n",
              "      --disabled-bg-color: #DDD;\n",
              "  }\n",
              "\n",
              "  [theme=dark] .colab-df-quickchart {\n",
              "      --bg-color: #3B4455;\n",
              "      --fill-color: #D2E3FC;\n",
              "      --hover-bg-color: #434B5C;\n",
              "      --hover-fill-color: #FFFFFF;\n",
              "      --disabled-bg-color: #3B4455;\n",
              "      --disabled-fill-color: #666;\n",
              "  }\n",
              "\n",
              "  .colab-df-quickchart {\n",
              "    background-color: var(--bg-color);\n",
              "    border: none;\n",
              "    border-radius: 50%;\n",
              "    cursor: pointer;\n",
              "    display: none;\n",
              "    fill: var(--fill-color);\n",
              "    height: 32px;\n",
              "    padding: 0;\n",
              "    width: 32px;\n",
              "  }\n",
              "\n",
              "  .colab-df-quickchart:hover {\n",
              "    background-color: var(--hover-bg-color);\n",
              "    box-shadow: 0 1px 2px rgba(60, 64, 67, 0.3), 0 1px 3px 1px rgba(60, 64, 67, 0.15);\n",
              "    fill: var(--button-hover-fill-color);\n",
              "  }\n",
              "\n",
              "  .colab-df-quickchart-complete:disabled,\n",
              "  .colab-df-quickchart-complete:disabled:hover {\n",
              "    background-color: var(--disabled-bg-color);\n",
              "    fill: var(--disabled-fill-color);\n",
              "    box-shadow: none;\n",
              "  }\n",
              "\n",
              "  .colab-df-spinner {\n",
              "    border: 2px solid var(--fill-color);\n",
              "    border-color: transparent;\n",
              "    border-bottom-color: var(--fill-color);\n",
              "    animation:\n",
              "      spin 1s steps(1) infinite;\n",
              "  }\n",
              "\n",
              "  @keyframes spin {\n",
              "    0% {\n",
              "      border-color: transparent;\n",
              "      border-bottom-color: var(--fill-color);\n",
              "      border-left-color: var(--fill-color);\n",
              "    }\n",
              "    20% {\n",
              "      border-color: transparent;\n",
              "      border-left-color: var(--fill-color);\n",
              "      border-top-color: var(--fill-color);\n",
              "    }\n",
              "    30% {\n",
              "      border-color: transparent;\n",
              "      border-left-color: var(--fill-color);\n",
              "      border-top-color: var(--fill-color);\n",
              "      border-right-color: var(--fill-color);\n",
              "    }\n",
              "    40% {\n",
              "      border-color: transparent;\n",
              "      border-right-color: var(--fill-color);\n",
              "      border-top-color: var(--fill-color);\n",
              "    }\n",
              "    60% {\n",
              "      border-color: transparent;\n",
              "      border-right-color: var(--fill-color);\n",
              "    }\n",
              "    80% {\n",
              "      border-color: transparent;\n",
              "      border-right-color: var(--fill-color);\n",
              "      border-bottom-color: var(--fill-color);\n",
              "    }\n",
              "    90% {\n",
              "      border-color: transparent;\n",
              "      border-bottom-color: var(--fill-color);\n",
              "    }\n",
              "  }\n",
              "</style>\n",
              "\n",
              "  <script>\n",
              "    async function quickchart(key) {\n",
              "      const quickchartButtonEl =\n",
              "        document.querySelector('#' + key + ' button');\n",
              "      quickchartButtonEl.disabled = true;  // To prevent multiple clicks.\n",
              "      quickchartButtonEl.classList.add('colab-df-spinner');\n",
              "      try {\n",
              "        const charts = await google.colab.kernel.invokeFunction(\n",
              "            'suggestCharts', [key], {});\n",
              "      } catch (error) {\n",
              "        console.error('Error during call to suggestCharts:', error);\n",
              "      }\n",
              "      quickchartButtonEl.classList.remove('colab-df-spinner');\n",
              "      quickchartButtonEl.classList.add('colab-df-quickchart-complete');\n",
              "    }\n",
              "    (() => {\n",
              "      let quickchartButtonEl =\n",
              "        document.querySelector('#df-4add5bb6-259f-4617-b324-8041dbfe158e button');\n",
              "      quickchartButtonEl.style.display =\n",
              "        google.colab.kernel.accessAllowed ? 'block' : 'none';\n",
              "    })();\n",
              "  </script>\n",
              "</div>\n",
              "\n",
              "    </div>\n",
              "  </div>\n"
            ],
            "application/vnd.google.colaboratory.intrinsic+json": {
              "type": "dataframe",
              "variable_name": "data",
              "summary": "{\n  \"name\": \"data\",\n  \"rows\": 248,\n  \"fields\": [\n    {\n      \"column\": \"SL.\",\n      \"properties\": {\n        \"dtype\": \"number\",\n        \"std\": 71,\n        \"min\": 1,\n        \"max\": 248,\n        \"num_unique_values\": 248,\n        \"samples\": [\n          34,\n          7,\n          183\n        ],\n        \"semantic_type\": \"\",\n        \"description\": \"\"\n      }\n    },\n    {\n      \"column\": \"AGE\",\n      \"properties\": {\n        \"dtype\": \"number\",\n        \"std\": 25.899357720573935,\n        \"min\": 0.03,\n        \"max\": 88.0,\n        \"num_unique_values\": 76,\n        \"samples\": [\n          60.0,\n          48.0,\n          45.0\n        ],\n        \"semantic_type\": \"\",\n        \"description\": \"\"\n      }\n    },\n    {\n      \"column\": \"GENDER\",\n      \"properties\": {\n        \"dtype\": \"category\",\n        \"num_unique_values\": 2,\n        \"samples\": [\n          \"F\",\n          \"M\"\n        ],\n        \"semantic_type\": \"\",\n        \"description\": \"\"\n      }\n    },\n    {\n      \"column\": \"MARITAL STATUS\",\n      \"properties\": {\n        \"dtype\": \"category\",\n        \"num_unique_values\": 2,\n        \"samples\": [\n          \"UNMARRIED\",\n          \"MARRIED\"\n        ],\n        \"semantic_type\": \"\",\n        \"description\": \"\"\n      }\n    },\n    {\n      \"column\": \"KEY COMPLAINTS -CODE\",\n      \"properties\": {\n        \"dtype\": \"category\",\n        \"num_unique_values\": 5,\n        \"samples\": [\n          \"CAD\",\n          \"OS-ASD\"\n        ],\n        \"semantic_type\": \"\",\n        \"description\": \"\"\n      }\n    },\n    {\n      \"column\": \"BODY WEIGHT\",\n      \"properties\": {\n        \"dtype\": \"number\",\n        \"std\": 23,\n        \"min\": 2,\n        \"max\": 85,\n        \"num_unique_values\": 73,\n        \"samples\": [\n          58,\n          37\n        ],\n        \"semantic_type\": \"\",\n        \"description\": \"\"\n      }\n    },\n    {\n      \"column\": \"BODY HEIGHT\",\n      \"properties\": {\n        \"dtype\": \"number\",\n        \"std\": 39,\n        \"min\": 19,\n        \"max\": 185,\n        \"num_unique_values\": 99,\n        \"samples\": [\n          99,\n          148\n        ],\n        \"semantic_type\": \"\",\n        \"description\": \"\"\n      }\n    },\n    {\n      \"column\": \"HR PULSE\",\n      \"properties\": {\n        \"dtype\": \"number\",\n        \"std\": 20,\n        \"min\": 41,\n        \"max\": 155,\n        \"num_unique_values\": 68,\n        \"samples\": [\n          101,\n          104\n        ],\n        \"semantic_type\": \"\",\n        \"description\": \"\"\n      }\n    },\n    {\n      \"column\": \"RR\",\n      \"properties\": {\n        \"dtype\": \"number\",\n        \"std\": 3,\n        \"min\": 12,\n        \"max\": 42,\n        \"num_unique_values\": 22,\n        \"samples\": [\n          32,\n          15\n        ],\n        \"semantic_type\": \"\",\n        \"description\": \"\"\n      }\n    },\n    {\n      \"column\": \"TOTAL COST TO HOSPITAL \",\n      \"properties\": {\n        \"dtype\": \"number\",\n        \"std\": 122587.49298413676,\n        \"min\": 46093.0,\n        \"max\": 887350.0,\n        \"num_unique_values\": 239,\n        \"samples\": [\n          361738.0,\n          887350.0\n        ],\n        \"semantic_type\": \"\",\n        \"description\": \"\"\n      }\n    }\n  ]\n}"
            }
          },
          "metadata": {},
          "execution_count": 4
        }
      ]
    },
    {
      "cell_type": "code",
      "source": [
        "print(\"Columns:\", data.columns)"
      ],
      "metadata": {
        "colab": {
          "base_uri": "https://localhost:8080/"
        },
        "id": "5wSo22Ld9EEy",
        "outputId": "4fad047c-44b7-4e49-9fdd-396869db324a"
      },
      "execution_count": null,
      "outputs": [
        {
          "output_type": "stream",
          "name": "stdout",
          "text": [
            "Columns: Index(['SL.', 'AGE', 'GENDER', 'MARITAL STATUS', 'KEY COMPLAINTS -CODE',\n",
            "       'BODY WEIGHT', 'BODY HEIGHT', 'HR PULSE', 'RR',\n",
            "       'TOTAL COST TO HOSPITAL '],\n",
            "      dtype='object')\n"
          ]
        }
      ]
    },
    {
      "cell_type": "code",
      "source": [
        "X = data.drop(columns=['SL.', 'TOTAL COST TO HOSPITAL '])\n",
        "y = data['TOTAL COST TO HOSPITAL ']"
      ],
      "metadata": {
        "id": "_nJrHVQu6qfn"
      },
      "execution_count": null,
      "outputs": []
    },
    {
      "cell_type": "code",
      "source": [
        "from sklearn.preprocessing import LabelEncoder\n",
        "\n",
        "label_encoders = {}\n",
        "categorical_cols = ['GENDER', 'MARITAL STATUS', 'KEY COMPLAINTS -CODE']\n",
        "\n",
        "for col in categorical_cols:\n",
        "    label_encoders[col] = LabelEncoder()\n",
        "    X[col] = label_encoders[col].fit_transform(X[col])"
      ],
      "metadata": {
        "id": "VAzf2V4z8J12"
      },
      "execution_count": null,
      "outputs": []
    },
    {
      "cell_type": "code",
      "source": [
        "from sklearn.preprocessing import StandardScaler\n",
        "\n",
        "numerical_cols = ['AGE', 'BODY WEIGHT', 'BODY HEIGHT', 'HR PULSE', 'RR']\n",
        "\n",
        "scaler = StandardScaler()\n",
        "X[numerical_cols] = scaler.fit_transform(X[numerical_cols])"
      ],
      "metadata": {
        "id": "pv9d7qfy9tvN"
      },
      "execution_count": null,
      "outputs": []
    },
    {
      "cell_type": "code",
      "source": [
        "import seaborn as sns\n",
        "\n",
        "encoded_data = pd.concat([X, y], axis=1)\n",
        "corr_matrix = encoded_data.corr()\n",
        "\n",
        "plt.figure(figsize=(10, 8))\n",
        "sns.heatmap(corr_matrix, annot=True, cmap='coolwarm', fmt='.2f', linewidths=.5)\n",
        "plt.title('Correlation between variables')\n",
        "plt.show()"
      ],
      "metadata": {
        "colab": {
          "base_uri": "https://localhost:8080/",
          "height": 870
        },
        "id": "ePRXK0NVAATS",
        "outputId": "ebea89ac-a331-412c-cedb-0e0ded9a3414"
      },
      "execution_count": null,
      "outputs": [
        {
          "output_type": "display_data",
          "data": {
            "text/plain": [
              "<Figure size 1000x800 with 2 Axes>"
            ],
            "image/png": "[encoded data removed]"
          },
          "metadata": {}
        }
      ]
    },
    {
      "cell_type": "code",
      "source": [
        "selected_features = corr_matrix['TOTAL COST TO HOSPITAL '][corr_matrix['TOTAL COST TO HOSPITAL '].abs() > 0.2].index.tolist()\n",
        "selected_features.remove('TOTAL COST TO HOSPITAL ')\n",
        "X = X[selected_features]"
      ],
      "metadata": {
        "id": "muHPjfGCAoln"
      },
      "execution_count": null,
      "outputs": []
    },
    {
      "cell_type": "code",
      "source": [
        "selected_features"
      ],
      "metadata": {
        "colab": {
          "base_uri": "https://localhost:8080/"
        },
        "id": "AazGf5EQSEE0",
        "outputId": "638327fb-13d2-406b-cc06-c5ee91ce64c9"
      },
      "execution_count": null,
      "outputs": [
        {
          "output_type": "execute_result",
          "data": {
            "text/plain": [
              "['AGE', 'MARITAL STATUS', 'KEY COMPLAINTS -CODE', 'BODY WEIGHT', 'BODY HEIGHT']"
            ]
          },
          "metadata": {},
          "execution_count": 11
        }
      ]
    },
    {
      "cell_type": "code",
      "source": [
        "from sklearn.model_selection import train_test_split\n",
        "\n",
        "X_train, X_test, y_train, y_test = train_test_split(X, y, test_size=0.2, random_state=42)"
      ],
      "metadata": {
        "id": "Cd7UfDLA-AxB"
      },
      "execution_count": null,
      "outputs": []
    },
    {
      "cell_type": "code",
      "source": [
        "from sklearn.linear_model import LinearRegression\n",
        "\n",
        "model = LinearRegression()\n",
        "model.fit(X_train, y_train)\n",
        "\n",
        "y_pred = model.predict(X_test)"
      ],
      "metadata": {
        "id": "umz4PAUT-Oji"
      },
      "execution_count": null,
      "outputs": []
    },
    {
      "cell_type": "code",
      "source": [
        "from sklearn.metrics import mean_squared_error, r2_score\n",
        "\n",
        "y_pred = model.predict(X_test)\n",
        "\n",
        "y_mean = y_test.mean()\n",
        "ssr = ((y_pred - y_mean) ** 2).sum()\n",
        "\n",
        "mse = mean_squared_error(y_test, y_pred)\n",
        "\n",
        "r2 = r2_score(y_test, y_pred)\n",
        "\n",
        "print(\"Sum Squared Regression (SSR):\", ssr)\n",
        "print(\"Mean Squared Error (MSE):\", mse)\n",
        "print(\"R-squared (R2):\", r2)"
      ],
      "metadata": {
        "colab": {
          "base_uri": "https://localhost:8080/"
        },
        "id": "TPDStpFP-eaK",
        "outputId": "3d63a37e-a92c-4a4d-9886-abce4e04214e"
      },
      "execution_count": null,
      "outputs": [
        {
          "output_type": "stream",
          "name": "stdout",
          "text": [
            "Sum Squared Regression (SSR): 151737259615.80298\n",
            "Mean Squared Error (MSE): 16166184468.35565\n",
            "R-squared (R2): 0.14993064125981437\n"
          ]
        }
      ]
    },
    {
      "cell_type": "code",
      "source": [
        "from sklearn.ensemble import RandomForestRegressor\n",
        "\n",
        "rf_model = RandomForestRegressor(n_estimators=100, random_state=42)\n",
        "rf_model.fit(X_train, y_train)\n",
        "\n",
        "y_pred_rf = rf_model.predict(X_test)"
      ],
      "metadata": {
        "id": "vV1Qr78G_UpW"
      },
      "execution_count": null,
      "outputs": []
    },
    {
      "cell_type": "code",
      "source": [
        "from sklearn.metrics import mean_squared_error, r2_score\n",
        "\n",
        "y_mean = y_test.mean()\n",
        "ssr = ((y_pred_rf - y_mean) ** 2).sum()\n",
        "\n",
        "mse = mean_squared_error(y_test, y_pred_rf)\n",
        "\n",
        "r2 = r2_score(y_test, y_pred_rf)\n",
        "\n",
        "print(\"Sum Squared Regression (SSR):\", ssr)\n",
        "print(\"Mean Squared Error (MSE):\", mse)\n",
        "print(\"R-squared (R2):\", r2)"
      ],
      "metadata": {
        "colab": {
          "base_uri": "https://localhost:8080/"
        },
        "id": "vb0m8n_vCeue",
        "outputId": "09242a48-04c4-46d9-9b7c-4ffd4563017f"
      },
      "execution_count": null,
      "outputs": [
        {
          "output_type": "stream",
          "name": "stdout",
          "text": [
            "Sum Squared Regression (SSR): 232566779564.98947\n",
            "Mean Squared Error (MSE): 17139109787.405476\n",
            "R-squared (R2): 0.09877113583132657\n"
          ]
        }
      ]
    },
    {
      "cell_type": "code",
      "source": [
        "from sklearn.ensemble import GradientBoostingRegressor\n",
        "from sklearn.metrics import mean_squared_error\n",
        "\n",
        "# Assuming X_train, X_test, y_train, y_test are your training and testing data\n",
        "\n",
        "# Create a Gradient Boosting Regressor model\n",
        "gb_model = GradientBoostingRegressor(n_estimators=100, learning_rate=0.1, random_state=42)\n",
        "\n",
        "# Train the model on the training data\n",
        "gb_model.fit(X_train, y_train)\n",
        "\n",
        "# Predict total cost to hospital on the testing set\n",
        "y_pred_gb = gb_model.predict(X_test)\n",
        "\n",
        "# Evaluate the model\n",
        "mse_gb = mean_squared_error(y_test, y_pred_gb)\n",
        "print(\"Gradient Boosting Mean Squared Error:\", mse_gb)"
      ],
      "metadata": {
        "colab": {
          "base_uri": "https://localhost:8080/"
        },
        "id": "G2YUhmZECouY",
        "outputId": "6bea1336-a49d-4cb3-b041-4266ee9e5bed"
      },
      "execution_count": null,
      "outputs": [
        {
          "output_type": "stream",
          "name": "stdout",
          "text": [
            "Gradient Boosting Mean Squared Error: 18772292985.03961\n"
          ]
        }
      ]
    },
    {
      "cell_type": "code",
      "source": [
        "from sklearn.model_selection import GridSearchCV\n",
        "from sklearn.ensemble import RandomForestRegressor\n",
        "\n",
        "# Define the parameter grid to search\n",
        "param_grid = {\n",
        "    'n_estimators': [100, 200, 300],\n",
        "    'max_depth': [None, 10, 20],\n",
        "    'min_samples_split': [2, 5, 10],\n",
        "    'min_samples_leaf': [1, 2, 4]\n",
        "}\n",
        "\n",
        "# Create a RandomForestRegressor model\n",
        "rf_model = RandomForestRegressor(random_state=42)\n",
        "\n",
        "# Perform Grid Search Cross-Validation to find the best hyperparameters\n",
        "grid_search = GridSearchCV(rf_model, param_grid, cv=5, scoring='neg_mean_squared_error')\n",
        "grid_search.fit(X_train, y_train)\n",
        "\n",
        "# Get the best model\n",
        "best_rf_model = grid_search.best_estimator_\n",
        "\n",
        "# Make predictions and evaluate the model\n",
        "y_pred = best_rf_model.predict(X_test)\n",
        "mse = mean_squared_error(y_test, y_pred)\n",
        "print(\"Best Random Forest Mean Squared Error:\", mse)\n"
      ],
      "metadata": {
        "colab": {
          "base_uri": "https://localhost:8080/"
        },
        "id": "cUrxsgogDAPZ",
        "outputId": "ce3b4c87-cd6e-4cc7-a4e2-03b460b81898"
      },
      "execution_count": null,
      "outputs": [
        {
          "output_type": "stream",
          "name": "stdout",
          "text": [
            "Best Random Forest Mean Squared Error: 15718636740.421925\n"
          ]
        }
      ]
    },
    {
      "cell_type": "code",
      "source": [
        "from sklearn.neural_network import MLPRegressor\n",
        "from sklearn.metrics import mean_squared_error\n",
        "\n",
        "# Assuming X_train, X_test, y_train, y_test are your training and testing data\n",
        "\n",
        "# Create a MLPRegressor model\n",
        "mlp_model = MLPRegressor(hidden_layer_sizes=(100, 50), activation='tanh', solver='adam', max_iter=500, random_state=42)\n",
        "\n",
        "# Train the model on the training data\n",
        "mlp_model.fit(X_train, y_train)\n",
        "\n",
        "# Predict total cost to hospital on the testing set\n",
        "y_pred_mlp = mlp_model.predict(X_test)\n",
        "\n",
        "# Evaluate the model\n",
        "mse_mlp = mean_squared_error(y_test, y_pred_mlp)\n",
        "print(\"MLPRegressor Mean Squared Error:\", mse_mlp)\n"
      ],
      "metadata": {
        "colab": {
          "base_uri": "https://localhost:8080/"
        },
        "id": "iKLlnn-NEXhg",
        "outputId": "2a7cef99-674c-42eb-ef2a-7e6eb5235c70"
      },
      "execution_count": null,
      "outputs": [
        {
          "output_type": "stream",
          "name": "stdout",
          "text": [
            "MLPRegressor Mean Squared Error: 65013608260.50668\n"
          ]
        },
        {
          "output_type": "stream",
          "name": "stderr",
          "text": [
            "/usr/local/lib/python3.10/dist-packages/sklearn/neural_network/_multilayer_perceptron.py:686: ConvergenceWarning: Stochastic Optimizer: Maximum iterations (500) reached and the optimization hasn't converged yet.\n",
            "  warnings.warn(\n"
          ]
        }
      ]
    },
    {
      "cell_type": "code",
      "source": [
        "# Import necessary libraries\n",
        "import pandas as pd\n",
        "from sklearn.model_selection import train_test_split, GridSearchCV\n",
        "from sklearn.preprocessing import StandardScaler\n",
        "from sklearn.ensemble import RandomForestRegressor\n",
        "from sklearn.metrics import mean_squared_error\n",
        "\n",
        "# Load the dataset\n",
        "data = pd.read_excel('/content/drive/MyDrive/College Work/MCA/ML/hospital_data.xlsx', sheet_name='DAD_MD_Training')\n",
        "\n",
        "# Data preprocessing\n",
        "# Drop rows with missing values\n",
        "data.dropna(inplace=True)\n",
        "\n",
        "# One-hot encode categorical variables\n",
        "data_encoded = pd.get_dummies(data, columns=['GENDER', 'MARITAL STATUS', 'KEY COMPLAINTS -CODE'])\n",
        "\n",
        "# Split dataset into features and target variable\n",
        "X = data_encoded.drop('TOTAL COST TO HOSPITAL ', axis=1)\n",
        "y = data_encoded['TOTAL COST TO HOSPITAL ']\n",
        "\n",
        "# Standardize numerical features\n",
        "scaler = StandardScaler()\n",
        "X_scaled = scaler.fit_transform(X)\n",
        "\n",
        "# Split dataset into training, validation, and testing sets\n",
        "X_train_val, X_test, y_train_val, y_test = train_test_split(X_scaled, y, test_size=0.2, random_state=42)\n",
        "X_train, X_val, y_train, y_val = train_test_split(X_train_val, y_train_val, test_size=0.25, random_state=42)\n",
        "\n",
        "# Model selection and tuning\n",
        "# Define RandomForestRegressor and its hyperparameters for grid search\n",
        "rf = RandomForestRegressor(random_state=42)\n",
        "param_grid = {\n",
        "    'n_estimators': [100, 200, 300],\n",
        "    'max_depth': [None, 10, 20],\n",
        "    'min_samples_split': [2, 5, 10],\n",
        "    'min_samples_leaf': [1, 2, 4]\n",
        "}\n",
        "\n",
        "# Perform grid search with cross-validation\n",
        "grid_search = GridSearchCV(rf, param_grid, cv=5, scoring='neg_mean_squared_error', n_jobs=-1)\n",
        "grid_search.fit(X_train_val, y_train_val)\n",
        "\n",
        "# Get the best model from grid search\n",
        "best_rf_model = grid_search.best_estimator_\n",
        "\n",
        "# Model evaluation on validation set\n",
        "y_pred_val = best_rf_model.predict(X_val)\n",
        "mse_val = mean_squared_error(y_val, y_pred_val)\n",
        "print(\"Validation Mean Squared Error:\", mse_val)\n",
        "\n",
        "# Model evaluation on test set\n",
        "y_pred_test = best_rf_model.predict(X_test)\n",
        "mse_test = mean_squared_error(y_test, y_pred_test)\n",
        "print(\"Test Mean Squared Error:\", mse_test)\n",
        "\n",
        "# Optionally, deploy the model and monitor its performance in production\n"
      ],
      "metadata": {
        "colab": {
          "base_uri": "https://localhost:8080/"
        },
        "id": "zuS3OfOcEX-Q",
        "outputId": "5f0dd628-c3c3-472e-f128-744466d2849e"
      },
      "execution_count": null,
      "outputs": [
        {
          "output_type": "stream",
          "name": "stdout",
          "text": [
            "Validation Mean Squared Error: 4288880351.5785537\n",
            "Test Mean Squared Error: 3635572350.602623\n"
          ]
        }
      ]
    },
    {
      "cell_type": "code",
      "source": [
        "# Import necessary libraries\n",
        "from sklearn.linear_model import LinearRegression\n",
        "from sklearn.tree import DecisionTreeRegressor\n",
        "from sklearn.ensemble import GradientBoostingRegressor\n",
        "from sklearn.neural_network import MLPRegressor\n",
        "\n",
        "# Define models for grid search\n",
        "models = [\n",
        "    ('Linear Regression', LinearRegression()),\n",
        "    ('Decision Tree', DecisionTreeRegressor(random_state=42)),\n",
        "    ('Random Forest', RandomForestRegressor(random_state=42)),\n",
        "    ('Gradient Boosting', GradientBoostingRegressor(random_state=42)),\n",
        "    ('MLP Regressor', MLPRegressor(random_state=42))\n",
        "]\n",
        "\n",
        "# Define hyperparameters for grid search\n",
        "param_grids = {\n",
        "    'Linear Regression': {},\n",
        "    'Decision Tree': {\n",
        "        'max_depth': [None, 10, 20],\n",
        "        'min_samples_split': [2, 5, 10],\n",
        "        'min_samples_leaf': [1, 2, 4]\n",
        "    },\n",
        "    'Random Forest': {\n",
        "        'n_estimators': [100, 200, 300],\n",
        "        'max_depth': [None, 10, 20],\n",
        "        'min_samples_split': [2, 5, 10],\n",
        "        'min_samples_leaf': [1, 2, 4]\n",
        "    },\n",
        "    'Gradient Boosting': {\n",
        "        'n_estimators': [100, 200, 300],\n",
        "        'learning_rate': [0.05, 0.1, 0.2],\n",
        "        'max_depth': [3, 4, 5]\n",
        "    },\n",
        "    'MLP Regressor': {\n",
        "        'hidden_layer_sizes': [(100,), (50, 100), (100, 100)],\n",
        "        'activation': ['relu', 'tanh'],\n",
        "        'alpha': [0.0001, 0.001, 0.01]\n",
        "    }\n",
        "}\n",
        "\n",
        "# Perform grid search for each model\n",
        "best_models = {}\n",
        "for name, model in models:\n",
        "    grid_search = GridSearchCV(model, param_grids[name], cv=5, scoring='neg_mean_squared_error', n_jobs=-1)\n",
        "    grid_search.fit(X_train_val, y_train_val)\n",
        "    best_models[name] = grid_search.best_estimator_\n",
        "\n",
        "# Model evaluation on validation set\n",
        "for name, model in best_models.items():\n",
        "    y_pred_val = model.predict(X_val)\n",
        "    mse_val = mean_squared_error(y_val, y_pred_val)\n",
        "    print(f\"{name} Validation Mean Squared Error:\", mse_val)\n",
        "\n",
        "# Select the best model based on validation performance\n",
        "best_model_name = min(best_models, key=lambda x: mean_squared_error(y_val, best_models[x].predict(X_val)))\n",
        "best_model = best_models[best_model_name]\n",
        "\n",
        "# Model evaluation on test set\n",
        "y_pred_test = best_model.predict(X_test)\n",
        "mse_test = mean_squared_error(y_test, y_pred_test)\n",
        "print(f\"Best Model ({best_model_name}) Test Mean Squared Error:\", mse_test)\n"
      ],
      "metadata": {
        "colab": {
          "base_uri": "https://localhost:8080/"
        },
        "id": "h0s43z3VGd3q",
        "outputId": "b6c4f013-f9d9-4898-e29e-4ea2c887ae58"
      },
      "execution_count": null,
      "outputs": [
        {
          "output_type": "stream",
          "name": "stdout",
          "text": [
            "Linear Regression Validation Mean Squared Error: 8410859313.469422\n",
            "Decision Tree Validation Mean Squared Error: 2200145726.413914\n",
            "Random Forest Validation Mean Squared Error: 4288880351.5785537\n",
            "Gradient Boosting Validation Mean Squared Error: 216609519.15690666\n",
            "MLP Regressor Validation Mean Squared Error: 79143480767.74146\n",
            "Best Model (Gradient Boosting) Test Mean Squared Error: 3151544070.06759\n"
          ]
        },
        {
          "output_type": "stream",
          "name": "stderr",
          "text": [
            "/usr/local/lib/python3.10/dist-packages/sklearn/neural_network/_multilayer_perceptron.py:686: ConvergenceWarning: Stochastic Optimizer: Maximum iterations (200) reached and the optimization hasn't converged yet.\n",
            "  warnings.warn(\n"
          ]
        }
      ]
    },
    {
      "cell_type": "code",
      "source": [],
      "metadata": {
        "id": "UstKGzzgICP5"
      },
      "execution_count": null,
      "outputs": []
    }
  ]
}