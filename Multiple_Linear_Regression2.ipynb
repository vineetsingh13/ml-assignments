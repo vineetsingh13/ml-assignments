{
  "nbformat": 4,
  "nbformat_minor": 0,
  "metadata": {
    "colab": {
      "provenance": []
    },
    "kernelspec": {
      "name": "python3",
      "display_name": "Python 3"
    },
    "language_info": {
      "name": "python"
    }
  },
  "cells": [
    {
      "cell_type": "code",
      "execution_count": null,
      "metadata": {
        "id": "enyvJNLB2dTJ"
      },
      "outputs": [],
      "source": [
        "import numpy as np\n",
        "import pandas as pd\n",
        "import matplotlib.pyplot as plt\n",
        "import pylab as pb"
      ]
    },
    {
      "cell_type": "code",
      "source": [
        "from google.colab import files\n",
        "files.upload()"
      ],
      "metadata": {
        "colab": {
          "base_uri": "https://localhost:8080/",
          "height": 1000
        },
        "id": "OEs9_TN72rat",
        "outputId": "5615c47f-26ba-4163-b887-0177738d9ca5"
      },
      "execution_count": null,
      "outputs": [
        {
          "output_type": "display_data",
          "data": {
            "text/plain": [
              "<IPython.core.display.HTML object>"
            ],
            "text/html": [
              "\n",
              "     <input type=\"file\" id=\"files-88878bb6-81a4-4f21-853c-48b18206f1a7\" name=\"files[]\" multiple disabled\n",
              "        style=\"border:none\" />\n",
              "     <output id=\"result-88878bb6-81a4-4f21-853c-48b18206f1a7\">\n",
              "      Upload widget is only available when the cell has been executed in the\n",
              "      current browser session. Please rerun this cell to enable.\n",
              "      </output>\n",
              "      <script>// Copyright 2017 Google LLC\n",
              "//\n",
              "// Licensed under the Apache License, Version 2.0 (the \"License\");\n",
              "// you may not use this file except in compliance with the License.\n",
              "// You may obtain a copy of the License at\n",
              "//\n",
              "//      http://www.apache.org/licenses/LICENSE-2.0\n",
              "//\n",
              "// Unless required by applicable law or agreed to in writing, software\n",
              "// distributed under the License is distributed on an \"AS IS\" BASIS,\n",
              "// WITHOUT WARRANTIES OR CONDITIONS OF ANY KIND, either express or implied.\n",
              "// See the License for the specific language governing permissions and\n",
              "// limitations under the License.\n",
              "\n",
              "/**\n",
              " * @fileoverview Helpers for google.colab Python module.\n",
              " */\n",
              "(function(scope) {\n",
              "function span(text, styleAttributes = {}) {\n",
              "  const element = document.createElement('span');\n",
              "  element.textContent = text;\n",
              "  for (const key of Object.keys(styleAttributes)) {\n",
              "    element.style[key] = styleAttributes[key];\n",
              "  }\n",
              "  return element;\n",
              "}\n",
              "\n",
              "// Max number of bytes which will be uploaded at a time.\n",
              "const MAX_PAYLOAD_SIZE = 100 * 1024;\n",
              "\n",
              "function _uploadFiles(inputId, outputId) {\n",
              "  const steps = uploadFilesStep(inputId, outputId);\n",
              "  const outputElement = document.getElementById(outputId);\n",
              "  // Cache steps on the outputElement to make it available for the next call\n",
              "  // to uploadFilesContinue from Python.\n",
              "  outputElement.steps = steps;\n",
              "\n",
              "  return _uploadFilesContinue(outputId);\n",
              "}\n",
              "\n",
              "// This is roughly an async generator (not supported in the browser yet),\n",
              "// where there are multiple asynchronous steps and the Python side is going\n",
              "// to poll for completion of each step.\n",
              "// This uses a Promise to block the python side on completion of each step,\n",
              "// then passes the result of the previous step as the input to the next step.\n",
              "function _uploadFilesContinue(outputId) {\n",
              "  const outputElement = document.getElementById(outputId);\n",
              "  const steps = outputElement.steps;\n",
              "\n",
              "  const next = steps.next(outputElement.lastPromiseValue);\n",
              "  return Promise.resolve(next.value.promise).then((value) => {\n",
              "    // Cache the last promise value to make it available to the next\n",
              "    // step of the generator.\n",
              "    outputElement.lastPromiseValue = value;\n",
              "    return next.value.response;\n",
              "  });\n",
              "}\n",
              "\n",
              "/**\n",
              " * Generator function which is called between each async step of the upload\n",
              " * process.\n",
              " * @param {string} inputId Element ID of the input file picker element.\n",
              " * @param {string} outputId Element ID of the output display.\n",
              " * @return {!Iterable<!Object>} Iterable of next steps.\n",
              " */\n",
              "function* uploadFilesStep(inputId, outputId) {\n",
              "  const inputElement = document.getElementById(inputId);\n",
              "  inputElement.disabled = false;\n",
              "\n",
              "  const outputElement = document.getElementById(outputId);\n",
              "  outputElement.innerHTML = '';\n",
              "\n",
              "  const pickedPromise = new Promise((resolve) => {\n",
              "    inputElement.addEventListener('change', (e) => {\n",
              "      resolve(e.target.files);\n",
              "    });\n",
              "  });\n",
              "\n",
              "  const cancel = document.createElement('button');\n",
              "  inputElement.parentElement.appendChild(cancel);\n",
              "  cancel.textContent = 'Cancel upload';\n",
              "  const cancelPromise = new Promise((resolve) => {\n",
              "    cancel.onclick = () => {\n",
              "      resolve(null);\n",
              "    };\n",
              "  });\n",
              "\n",
              "  // Wait for the user to pick the files.\n",
              "  const files = yield {\n",
              "    promise: Promise.race([pickedPromise, cancelPromise]),\n",
              "    response: {\n",
              "      action: 'starting',\n",
              "    }\n",
              "  };\n",
              "\n",
              "  cancel.remove();\n",
              "\n",
              "  // Disable the input element since further picks are not allowed.\n",
              "  inputElement.disabled = true;\n",
              "\n",
              "  if (!files) {\n",
              "    return {\n",
              "      response: {\n",
              "        action: 'complete',\n",
              "      }\n",
              "    };\n",
              "  }\n",
              "\n",
              "  for (const file of files) {\n",
              "    const li = document.createElement('li');\n",
              "    li.append(span(file.name, {fontWeight: 'bold'}));\n",
              "    li.append(span(\n",
              "        `(${file.type || 'n/a'}) - ${file.size} bytes, ` +\n",
              "        `last modified: ${\n",
              "            file.lastModifiedDate ? file.lastModifiedDate.toLocaleDateString() :\n",
              "                                    'n/a'} - `));\n",
              "    const percent = span('0% done');\n",
              "    li.appendChild(percent);\n",
              "\n",
              "    outputElement.appendChild(li);\n",
              "\n",
              "    const fileDataPromise = new Promise((resolve) => {\n",
              "      const reader = new FileReader();\n",
              "      reader.onload = (e) => {\n",
              "        resolve(e.target.result);\n",
              "      };\n",
              "      reader.readAsArrayBuffer(file);\n",
              "    });\n",
              "    // Wait for the data to be ready.\n",
              "    let fileData = yield {\n",
              "      promise: fileDataPromise,\n",
              "      response: {\n",
              "        action: 'continue',\n",
              "      }\n",
              "    };\n",
              "\n",
              "    // Use a chunked sending to avoid message size limits. See b/62115660.\n",
              "    let position = 0;\n",
              "    do {\n",
              "      const length = Math.min(fileData.byteLength - position, MAX_PAYLOAD_SIZE);\n",
              "      const chunk = new Uint8Array(fileData, position, length);\n",
              "      position += length;\n",
              "\n",
              "      const base64 = btoa(String.fromCharCode.apply(null, chunk));\n",
              "      yield {\n",
              "        response: {\n",
              "          action: 'append',\n",
              "          file: file.name,\n",
              "          data: base64,\n",
              "        },\n",
              "      };\n",
              "\n",
              "      let percentDone = fileData.byteLength === 0 ?\n",
              "          100 :\n",
              "          Math.round((position / fileData.byteLength) * 100);\n",
              "      percent.textContent = `${percentDone}% done`;\n",
              "\n",
              "    } while (position < fileData.byteLength);\n",
              "  }\n",
              "\n",
              "  // All done.\n",
              "  yield {\n",
              "    response: {\n",
              "      action: 'complete',\n",
              "    }\n",
              "  };\n",
              "}\n",
              "\n",
              "scope.google = scope.google || {};\n",
              "scope.google.colab = scope.google.colab || {};\n",
              "scope.google.colab._files = {\n",
              "  _uploadFiles,\n",
              "  _uploadFilesContinue,\n",
              "};\n",
              "})(self);\n",
              "</script> "
            ]
          },
          "metadata": {}
        },
        {
          "output_type": "stream",
          "name": "stdout",
          "text": [
            "Saving car_data.csv to car_data (1).csv\n"
          ]
        },
        {
          "output_type": "execute_result",
          "data": {
            "text/plain": [
              "{'car_data (1).csv': b'Car_Name,Year,Selling_Price,Present_Price,Kms_Driven,Fuel_Type,Seller_Type,Transmission,Owner\\r\\nritz,2014,3.35,5.59,27000,Petrol,Dealer,Manual,0\\r\\nsx4,2013,4.75,9.54,43000,Diesel,Dealer,Manual,0\\r\\nciaz,2017,7.25,9.85,6900,Petrol,Dealer,Manual,0\\r\\nwagon r,2011,2.85,4.15,5200,Petrol,Dealer,Manual,0\\r\\nswift,2014,4.6,6.87,42450,Diesel,Dealer,Manual,0\\r\\nvitara brezza,2018,9.25,9.83,2071,Diesel,Dealer,Manual,0\\r\\nciaz,2015,6.75,8.12,18796,Petrol,Dealer,Manual,0\\r\\ns cross,2015,6.5,8.61,33429,Diesel,Dealer,Manual,0\\r\\nciaz,2016,8.75,8.89,20273,Diesel,Dealer,Manual,0\\r\\nciaz,2015,7.45,8.92,42367,Diesel,Dealer,Manual,0\\r\\nalto 800,2017,2.85,3.6,2135,Petrol,Dealer,Manual,0\\r\\nciaz,2015,6.85,10.38,51000,Diesel,Dealer,Manual,0\\r\\nciaz,2015,7.5,9.94,15000,Petrol,Dealer,Automatic,0\\r\\nertiga,2015,6.1,7.71,26000,Petrol,Dealer,Manual,0\\r\\ndzire,2009,2.25,7.21,77427,Petrol,Dealer,Manual,0\\r\\nertiga,2016,7.75,10.79,43000,Diesel,Dealer,Manual,0\\r\\nertiga,2015,7.25,10.79,41678,Diesel,Dealer,Manual,0\\r\\nertiga,2016,7.75,10.79,43000,Diesel,Dealer,Manual,0\\r\\nwagon r,2015,3.25,5.09,35500,CNG,Dealer,Manual,0\\r\\nsx4,2010,2.65,7.98,41442,Petrol,Dealer,Manual,0\\r\\nalto k10,2016,2.85,3.95,25000,Petrol,Dealer,Manual,0\\r\\nignis,2017,4.9,5.71,2400,Petrol,Dealer,Manual,0\\r\\nsx4,2011,4.4,8.01,50000,Petrol,Dealer,Automatic,0\\r\\nalto k10,2014,2.5,3.46,45280,Petrol,Dealer,Manual,0\\r\\nwagon r,2013,2.9,4.41,56879,Petrol,Dealer,Manual,0\\r\\nswift,2011,3,4.99,20000,Petrol,Dealer,Manual,0\\r\\nswift,2013,4.15,5.87,55138,Petrol,Dealer,Manual,0\\r\\nswift,2017,6,6.49,16200,Petrol,Individual,Manual,0\\r\\nalto k10,2010,1.95,3.95,44542,Petrol,Dealer,Manual,0\\r\\nciaz,2015,7.45,10.38,45000,Diesel,Dealer,Manual,0\\r\\nritz,2012,3.1,5.98,51439,Diesel,Dealer,Manual,0\\r\\nritz,2011,2.35,4.89,54200,Petrol,Dealer,Manual,0\\r\\nswift,2014,4.95,7.49,39000,Diesel,Dealer,Manual,0\\r\\nertiga,2014,6,9.95,45000,Diesel,Dealer,Manual,0\\r\\ndzire,2014,5.5,8.06,45000,Diesel,Dealer,Manual,0\\r\\nsx4,2011,2.95,7.74,49998,CNG,Dealer,Manual,0\\r\\ndzire,2015,4.65,7.2,48767,Petrol,Dealer,Manual,0\\r\\n800,2003,0.35,2.28,127000,Petrol,Individual,Manual,0\\r\\nalto k10,2016,3,3.76,10079,Petrol,Dealer,Manual,0\\r\\nsx4,2003,2.25,7.98,62000,Petrol,Dealer,Manual,0\\r\\nbaleno,2016,5.85,7.87,24524,Petrol,Dealer,Automatic,0\\r\\nalto k10,2014,2.55,3.98,46706,Petrol,Dealer,Manual,0\\r\\nsx4,2008,1.95,7.15,58000,Petrol,Dealer,Manual,0\\r\\ndzire,2014,5.5,8.06,45780,Diesel,Dealer,Manual,0\\r\\nomni,2012,1.25,2.69,50000,Petrol,Dealer,Manual,0\\r\\nciaz,2014,7.5,12.04,15000,Petrol,Dealer,Automatic,0\\r\\nritz,2013,2.65,4.89,64532,Petrol,Dealer,Manual,0\\r\\nwagon r,2006,1.05,4.15,65000,Petrol,Dealer,Manual,0\\r\\nertiga,2015,5.8,7.71,25870,Petrol,Dealer,Manual,0\\r\\nciaz,2017,7.75,9.29,37000,Petrol,Dealer,Automatic,0\\r\\nfortuner,2012,14.9,30.61,104707,Diesel,Dealer,Automatic,0\\r\\nfortuner,2015,23,30.61,40000,Diesel,Dealer,Automatic,0\\r\\ninnova,2017,18,19.77,15000,Diesel,Dealer,Automatic,0\\r\\nfortuner,2013,16,30.61,135000,Diesel,Individual,Automatic,0\\r\\ninnova,2005,2.75,10.21,90000,Petrol,Individual,Manual,0\\r\\ncorolla altis,2009,3.6,15.04,70000,Petrol,Dealer,Automatic,0\\r\\netios cross,2015,4.5,7.27,40534,Petrol,Dealer,Manual,0\\r\\ncorolla altis,2010,4.75,18.54,50000,Petrol,Dealer,Manual,0\\r\\netios g,2014,4.1,6.8,39485,Petrol,Dealer,Manual,1\\r\\nfortuner,2014,19.99,35.96,41000,Diesel,Dealer,Automatic,0\\r\\ncorolla altis,2013,6.95,18.61,40001,Petrol,Dealer,Manual,0\\r\\netios cross,2015,4.5,7.7,40588,Petrol,Dealer,Manual,0\\r\\nfortuner,2014,18.75,35.96,78000,Diesel,Dealer,Automatic,0\\r\\nfortuner,2015,23.5,35.96,47000,Diesel,Dealer,Automatic,0\\r\\nfortuner,2017,33,36.23,6000,Diesel,Dealer,Automatic,0\\r\\netios liva,2014,4.75,6.95,45000,Diesel,Dealer,Manual,0\\r\\ninnova,2017,19.75,23.15,11000,Petrol,Dealer,Automatic,0\\r\\nfortuner,2010,9.25,20.45,59000,Diesel,Dealer,Manual,0\\r\\ncorolla altis,2011,4.35,13.74,88000,Petrol,Dealer,Manual,0\\r\\ncorolla altis,2016,14.25,20.91,12000,Petrol,Dealer,Manual,0\\r\\netios liva,2014,3.95,6.76,71000,Diesel,Dealer,Manual,0\\r\\ncorolla altis,2011,4.5,12.48,45000,Diesel,Dealer,Manual,0\\r\\ncorolla altis,2013,7.45,18.61,56001,Petrol,Dealer,Manual,0\\r\\netios liva,2011,2.65,5.71,43000,Petrol,Dealer,Manual,0\\r\\netios cross,2014,4.9,8.93,83000,Diesel,Dealer,Manual,0\\r\\netios g,2015,3.95,6.8,36000,Petrol,Dealer,Manual,0\\r\\ncorolla altis,2013,5.5,14.68,72000,Petrol,Dealer,Manual,0\\r\\ncorolla,2004,1.5,12.35,135154,Petrol,Dealer,Automatic,0\\r\\ncorolla altis,2010,5.25,22.83,80000,Petrol,Dealer,Automatic,0\\r\\nfortuner,2012,14.5,30.61,89000,Diesel,Dealer,Automatic,0\\r\\ncorolla altis,2016,14.73,14.89,23000,Diesel,Dealer,Manual,0\\r\\netios gd,2015,4.75,7.85,40000,Diesel,Dealer,Manual,0\\r\\ninnova,2017,23,25.39,15000,Diesel,Dealer,Automatic,0\\r\\ninnova,2015,12.5,13.46,38000,Diesel,Dealer,Manual,0\\r\\ninnova,2005,3.49,13.46,197176,Diesel,Dealer,Manual,0\\r\\ncamry,2006,2.5,23.73,142000,Petrol,Individual,Automatic,3\\r\\nland cruiser,2010,35,92.6,78000,Diesel,Dealer,Manual,0\\r\\ncorolla altis,2012,5.9,13.74,56000,Petrol,Dealer,Manual,0\\r\\netios liva,2013,3.45,6.05,47000,Petrol,Dealer,Manual,0\\r\\netios g,2014,4.75,6.76,40000,Petrol,Dealer,Manual,0\\r\\ncorolla altis,2009,3.8,18.61,62000,Petrol,Dealer,Manual,0\\r\\ninnova,2014,11.25,16.09,58242,Diesel,Dealer,Manual,0\\r\\ninnova,2005,3.51,13.7,75000,Petrol,Dealer,Manual,0\\r\\nfortuner,2015,23,30.61,40000,Diesel,Dealer,Automatic,0\\r\\ncorolla altis,2008,4,22.78,89000,Petrol,Dealer,Automatic,0\\r\\ncorolla altis,2012,5.85,18.61,72000,Petrol,Dealer,Manual,0\\r\\ninnova,2016,20.75,25.39,29000,Diesel,Dealer,Automatic,0\\r\\ncorolla altis,2017,17,18.64,8700,Petrol,Dealer,Manual,0\\r\\ncorolla altis,2013,7.05,18.61,45000,Petrol,Dealer,Manual,0\\r\\nfortuner,2010,9.65,20.45,50024,Diesel,Dealer,Manual,0\\r\\nRoyal Enfield Thunder 500,2016,1.75,1.9,3000,Petrol,Individual,Manual,0\\r\\nUM Renegade Mojave,2017,1.7,1.82,1400,Petrol,Individual,Manual,0\\r\\nKTM RC200,2017,1.65,1.78,4000,Petrol,Individual,Manual,0\\r\\nBajaj Dominar 400,2017,1.45,1.6,1200,Petrol,Individual,Manual,0\\r\\nRoyal Enfield Classic 350,2017,1.35,1.47,4100,Petrol,Individual,Manual,0\\r\\nKTM RC390,2015,1.35,2.37,21700,Petrol,Individual,Manual,0\\r\\nHyosung GT250R,2014,1.35,3.45,16500,Petrol,Individual,Manual,1\\r\\nRoyal Enfield Thunder 350,2013,1.25,1.5,15000,Petrol,Individual,Manual,0\\r\\nRoyal Enfield Thunder 350,2016,1.2,1.5,18000,Petrol,Individual,Manual,0\\r\\nRoyal Enfield Classic 350,2017,1.2,1.47,11000,Petrol,Individual,Manual,0\\r\\nKTM RC200,2016,1.2,1.78,6000,Petrol,Individual,Manual,0\\r\\nRoyal Enfield Thunder 350,2016,1.15,1.5,8700,Petrol,Individual,Manual,0\\r\\nKTM 390 Duke ,2014,1.15,2.4,7000,Petrol,Individual,Manual,0\\r\\nMahindra Mojo XT300,2016,1.15,1.4,35000,Petrol,Individual,Manual,0\\r\\nRoyal Enfield Classic 350,2015,1.15,1.47,17000,Petrol,Individual,Manual,0\\r\\nRoyal Enfield Classic 350,2015,1.11,1.47,17500,Petrol,Individual,Manual,0\\r\\nRoyal Enfield Classic 350,2013,1.1,1.47,33000,Petrol,Individual,Manual,0\\r\\nRoyal Enfield Thunder 500,2015,1.1,1.9,14000,Petrol,Individual,Manual,0\\r\\nRoyal Enfield Classic 350,2015,1.1,1.47,26000,Petrol,Individual,Manual,0\\r\\nRoyal Enfield Thunder 500,2013,1.05,1.9,5400,Petrol,Individual,Manual,0\\r\\nBajaj Pulsar RS200,2016,1.05,1.26,5700,Petrol,Individual,Manual,0\\r\\nRoyal Enfield Thunder 350,2011,1.05,1.5,6900,Petrol,Individual,Manual,0\\r\\nRoyal Enfield Bullet 350,2016,1.05,1.17,6000,Petrol,Individual,Manual,0\\r\\nRoyal Enfield Classic 350,2013,1,1.47,46500,Petrol,Individual,Manual,0\\r\\nRoyal Enfield Classic 500,2012,0.95,1.75,11500,Petrol,Individual,Manual,0\\r\\nRoyal Enfield Classic 500,2009,0.9,1.75,40000,Petrol,Individual,Manual,0\\r\\nBajaj Avenger 220,2017,0.9,0.95,1300,Petrol,Individual,Manual,0\\r\\nBajaj Avenger 150,2016,0.75,0.8,7000,Petrol,Individual,Manual,0\\r\\nHonda CB Hornet 160R,2017,0.8,0.87,3000,Petrol,Individual,Manual,0\\r\\nYamaha FZ S V 2.0,2017,0.78,0.84,5000,Petrol,Individual,Manual,0\\r\\nHonda CB Hornet 160R,2017,0.75,0.87,11000,Petrol,Individual,Manual,0\\r\\nYamaha FZ 16,2015,0.75,0.82,18000,Petrol,Individual,Manual,0\\r\\nBajaj Avenger 220,2017,0.75,0.95,3500,Petrol,Individual,Manual,0\\r\\nBajaj Avenger 220,2016,0.72,0.95,500,Petrol,Individual,Manual,0\\r\\nTVS Apache RTR 160,2017,0.65,0.81,11800,Petrol,Individual,Manual,0\\r\\nBajaj Pulsar 150,2015,0.65,0.74,5000,Petrol,Individual,Manual,0\\r\\nHonda CBR 150,2014,0.65,1.2,23500,Petrol,Individual,Manual,0\\r\\nHero Extreme,2013,0.65,0.787,16000,Petrol,Individual,Manual,0\\r\\nHonda CB Hornet 160R,2016,0.6,0.87,15000,Petrol,Individual,Manual,0\\r\\nBajaj Avenger 220 dtsi,2015,0.6,0.95,16600,Petrol,Individual,Manual,0\\r\\nHonda CBR 150,2013,0.6,1.2,32000,Petrol,Individual,Manual,0\\r\\nBajaj Avenger 150 street,2016,0.6,0.8,20000,Petrol,Individual,Manual,0\\r\\nYamaha FZ  v 2.0,2015,0.6,0.84,29000,Petrol,Individual,Manual,0\\r\\nYamaha FZ  v 2.0,2016,0.6,0.84,25000,Petrol,Individual,Manual,0\\r\\nBajaj Pulsar  NS 200,2014,0.6,0.99,25000,Petrol,Individual,Manual,0\\r\\nTVS Apache RTR 160,2012,0.6,0.81,19000,Petrol,Individual,Manual,0\\r\\nHero Extreme,2014,0.55,0.787,15000,Petrol,Individual,Manual,0\\r\\nYamaha FZ S V 2.0,2015,0.55,0.84,58000,Petrol,Individual,Manual,0\\r\\nBajaj Pulsar 220 F,2010,0.52,0.94,45000,Petrol,Individual,Manual,0\\r\\nBajaj Pulsar 220 F,2016,0.51,0.94,24000,Petrol,Individual,Manual,0\\r\\nTVS Apache RTR 180,2011,0.5,0.826,6000,Petrol,Individual,Manual,0\\r\\nHero Passion X pro,2016,0.5,0.55,31000,Petrol,Individual,Manual,0\\r\\nBajaj Pulsar NS 200,2012,0.5,0.99,13000,Petrol,Individual,Manual,0\\r\\nBajaj Pulsar NS 200,2013,0.5,0.99,45000,Petrol,Individual,Manual,0\\r\\nYamaha Fazer ,2014,0.5,0.88,8000,Petrol,Individual,Manual,0\\r\\nHonda Activa 4G,2017,0.48,0.51,4300,Petrol,Individual,Automatic,0\\r\\nTVS Sport ,2017,0.48,0.52,15000,Petrol,Individual,Manual,0\\r\\nYamaha FZ S V 2.0,2015,0.48,0.84,23000,Petrol,Individual,Manual,0\\r\\nHonda Dream Yuga ,2017,0.48,0.54,8600,Petrol,Individual,Manual,0\\r\\nHonda Activa 4G,2017,0.45,0.51,4000,Petrol,Individual,Automatic,0\\r\\nBajaj Avenger Street 220,2011,0.45,0.95,24000,Petrol,Individual,Manual,0\\r\\nTVS Apache RTR 180,2014,0.45,0.826,23000,Petrol,Individual,Manual,0\\r\\nBajaj Pulsar NS 200,2012,0.45,0.99,14500,Petrol,Individual,Manual,0\\r\\nBajaj Avenger 220 dtsi,2010,0.45,0.95,27000,Petrol,Individual,Manual,0\\r\\nHero Splender iSmart,2016,0.45,0.54,14000,Petrol,Individual,Manual,0\\r\\nActiva 3g,2016,0.45,0.54,500,Petrol,Individual,Automatic,0\\r\\nHero Passion Pro,2016,0.45,0.55,1000,Petrol,Individual,Manual,0\\r\\nTVS Apache RTR 160,2014,0.42,0.81,42000,Petrol,Individual,Manual,0\\r\\nHonda CB Trigger,2013,0.42,0.73,12000,Petrol,Individual,Manual,0\\r\\nHero Splender iSmart,2015,0.4,0.54,14000,Petrol,Individual,Manual,0\\r\\nYamaha FZ S ,2012,0.4,0.83,5500,Petrol,Individual,Manual,0\\r\\nHero Passion Pro,2015,0.4,0.55,6700,Petrol,Individual,Manual,0\\r\\nBajaj Pulsar 135 LS,2014,0.4,0.64,13700,Petrol,Individual,Manual,0\\r\\nActiva 4g,2017,0.4,0.51,1300,Petrol,Individual,Automatic,0\\r\\nHonda CB Unicorn,2015,0.38,0.72,38600,Petrol,Individual,Manual,0\\r\\nHero Honda CBZ extreme,2011,0.38,0.787,75000,Petrol,Individual,Manual,0\\r\\nHonda Karizma,2011,0.35,1.05,30000,Petrol,Individual,Manual,0\\r\\nHonda Activa 125,2016,0.35,0.57,24000,Petrol,Individual,Automatic,0\\r\\nTVS Jupyter,2014,0.35,0.52,19000,Petrol,Individual,Automatic,0\\r\\nHonda Karizma,2010,0.31,1.05,213000,Petrol,Individual,Manual,0\\r\\nHero Honda Passion Pro,2012,0.3,0.51,60000,Petrol,Individual,Manual,0\\r\\nHero Splender Plus,2016,0.3,0.48,50000,Petrol,Individual,Manual,0\\r\\nHonda CB Shine,2013,0.3,0.58,30000,Petrol,Individual,Manual,0\\r\\nBajaj Discover 100,2013,0.27,0.47,21000,Petrol,Individual,Manual,0\\r\\nBajaj Pulsar 150,2008,0.25,0.75,26000,Petrol,Individual,Manual,1\\r\\nSuzuki Access 125,2008,0.25,0.58,1900,Petrol,Individual,Automatic,0\\r\\nTVS Wego,2010,0.25,0.52,22000,Petrol,Individual,Automatic,0\\r\\nHonda CB twister,2013,0.25,0.51,32000,Petrol,Individual,Manual,0\\r\\nHero Glamour,2013,0.25,0.57,18000,Petrol,Individual,Manual,0\\r\\nHero Super Splendor,2005,0.2,0.57,55000,Petrol,Individual,Manual,0\\r\\nBajaj Pulsar 150,2008,0.2,0.75,60000,Petrol,Individual,Manual,0\\r\\nBajaj Discover 125,2012,0.2,0.57,25000,Petrol,Individual,Manual,1\\r\\nHero Hunk,2007,0.2,0.75,49000,Petrol,Individual,Manual,1\\r\\nHero  Ignitor Disc,2013,0.2,0.65,24000,Petrol,Individual,Manual,1\\r\\nHero  CBZ Xtreme,2008,0.2,0.787,50000,Petrol,Individual,Manual,0\\r\\nBajaj  ct 100,2015,0.18,0.32,35000,Petrol,Individual,Manual,0\\r\\nActiva 3g,2008,0.17,0.52,500000,Petrol,Individual,Automatic,0\\r\\nHonda CB twister,2010,0.16,0.51,33000,Petrol,Individual,Manual,0\\r\\nBajaj Discover 125,2011,0.15,0.57,35000,Petrol,Individual,Manual,1\\r\\nHonda CB Shine,2007,0.12,0.58,53000,Petrol,Individual,Manual,0\\r\\nBajaj Pulsar 150,2006,0.1,0.75,92233,Petrol,Individual,Manual,0\\r\\ni20,2010,3.25,6.79,58000,Diesel,Dealer,Manual,1\\r\\ngrand i10,2015,4.4,5.7,28200,Petrol,Dealer,Manual,0\\r\\ni10,2011,2.95,4.6,53460,Petrol,Dealer,Manual,0\\r\\neon,2015,2.75,4.43,28282,Petrol,Dealer,Manual,0\\r\\ngrand i10,2016,5.25,5.7,3493,Petrol,Dealer,Manual,1\\r\\nxcent,2017,5.75,7.13,12479,Petrol,Dealer,Manual,0\\r\\ngrand i10,2015,5.15,5.7,34797,Petrol,Dealer,Automatic,0\\r\\ni20,2017,7.9,8.1,3435,Petrol,Dealer,Manual,0\\r\\ngrand i10,2015,4.85,5.7,21125,Diesel,Dealer,Manual,0\\r\\ni10,2012,3.1,4.6,35775,Petrol,Dealer,Manual,0\\r\\nelantra,2015,11.75,14.79,43535,Diesel,Dealer,Manual,0\\r\\ncreta,2016,11.25,13.6,22671,Petrol,Dealer,Manual,0\\r\\ni20,2011,2.9,6.79,31604,Petrol,Dealer,Manual,0\\r\\ngrand i10,2017,5.25,5.7,20114,Petrol,Dealer,Manual,0\\r\\nverna,2012,4.5,9.4,36100,Petrol,Dealer,Manual,0\\r\\neon,2016,2.9,4.43,12500,Petrol,Dealer,Manual,0\\r\\neon,2016,3.15,4.43,15000,Petrol,Dealer,Manual,0\\r\\nverna,2014,6.45,9.4,45078,Petrol,Dealer,Manual,0\\r\\nverna,2012,4.5,9.4,36000,Petrol,Dealer,Manual,0\\r\\neon,2017,3.5,4.43,38488,Petrol,Dealer,Manual,0\\r\\ni20,2013,4.5,6.79,32000,Petrol,Dealer,Automatic,0\\r\\ni20,2014,6,7.6,77632,Diesel,Dealer,Manual,0\\r\\nverna,2015,8.25,9.4,61381,Diesel,Dealer,Manual,0\\r\\nverna,2013,5.11,9.4,36198,Petrol,Dealer,Automatic,0\\r\\ni10,2011,2.7,4.6,22517,Petrol,Dealer,Manual,0\\r\\ngrand i10,2015,5.25,5.7,24678,Petrol,Dealer,Manual,0\\r\\ni10,2011,2.55,4.43,57000,Petrol,Dealer,Manual,0\\r\\nverna,2012,4.95,9.4,60000,Diesel,Dealer,Manual,0\\r\\ni20,2012,3.1,6.79,52132,Diesel,Dealer,Manual,0\\r\\nverna,2013,6.15,9.4,45000,Diesel,Dealer,Manual,0\\r\\nverna,2017,9.25,9.4,15001,Petrol,Dealer,Manual,0\\r\\nelantra,2015,11.45,14.79,12900,Petrol,Dealer,Automatic,0\\r\\ngrand i10,2013,3.9,5.7,53000,Diesel,Dealer,Manual,0\\r\\ngrand i10,2015,5.5,5.7,4492,Petrol,Dealer,Manual,0\\r\\nverna,2017,9.1,9.4,15141,Petrol,Dealer,Manual,0\\r\\neon,2016,3.1,4.43,11849,Petrol,Dealer,Manual,0\\r\\ncreta,2015,11.25,13.6,68000,Diesel,Dealer,Manual,0\\r\\nverna,2013,4.8,9.4,60241,Petrol,Dealer,Manual,0\\r\\neon,2012,2,4.43,23709,Petrol,Dealer,Manual,0\\r\\nverna,2012,5.35,9.4,32322,Diesel,Dealer,Manual,0\\r\\nxcent,2015,4.75,7.13,35866,Petrol,Dealer,Manual,1\\r\\nxcent,2014,4.4,7.13,34000,Petrol,Dealer,Manual,0\\r\\ni20,2016,6.25,7.6,7000,Petrol,Dealer,Manual,0\\r\\nverna,2013,5.95,9.4,49000,Diesel,Dealer,Manual,0\\r\\nverna,2012,5.2,9.4,71000,Diesel,Dealer,Manual,0\\r\\ni20,2012,3.75,6.79,35000,Petrol,Dealer,Manual,0\\r\\nverna,2015,5.95,9.4,36000,Petrol,Dealer,Manual,0\\r\\ni10,2013,4,4.6,30000,Petrol,Dealer,Manual,0\\r\\ni20,2016,5.25,7.6,17000,Petrol,Dealer,Manual,0\\r\\ncreta,2016,12.9,13.6,35934,Diesel,Dealer,Manual,0\\r\\ncity,2013,5,9.9,56701,Petrol,Dealer,Manual,0\\r\\nbrio,2015,5.4,6.82,31427,Petrol,Dealer,Automatic,0\\r\\ncity,2014,7.2,9.9,48000,Diesel,Dealer,Manual,0\\r\\ncity,2013,5.25,9.9,54242,Petrol,Dealer,Manual,0\\r\\nbrio,2012,3,5.35,53675,Petrol,Dealer,Manual,0\\r\\ncity,2016,10.25,13.6,49562,Petrol,Dealer,Manual,0\\r\\ncity,2015,8.5,13.6,40324,Petrol,Dealer,Manual,0\\r\\ncity,2015,8.4,13.6,25000,Petrol,Dealer,Manual,0\\r\\namaze,2014,3.9,7,36054,Petrol,Dealer,Manual,0\\r\\ncity,2016,9.15,13.6,29223,Petrol,Dealer,Manual,0\\r\\nbrio,2016,5.5,5.97,5600,Petrol,Dealer,Manual,0\\r\\namaze,2015,4,5.8,40023,Petrol,Dealer,Manual,0\\r\\njazz,2016,6.6,7.7,16002,Petrol,Dealer,Manual,0\\r\\namaze,2015,4,7,40026,Petrol,Dealer,Manual,0\\r\\njazz,2017,6.5,8.7,21200,Petrol,Dealer,Manual,0\\r\\namaze,2014,3.65,7,35000,Petrol,Dealer,Manual,0\\r\\ncity,2016,8.35,9.4,19434,Diesel,Dealer,Manual,0\\r\\nbrio,2017,4.8,5.8,19000,Petrol,Dealer,Manual,0\\r\\ncity,2015,6.7,10,18828,Petrol,Dealer,Manual,0\\r\\ncity,2011,4.1,10,69341,Petrol,Dealer,Manual,0\\r\\ncity,2009,3,10,69562,Petrol,Dealer,Manual,0\\r\\ncity,2015,7.5,10,27600,Petrol,Dealer,Manual,0\\r\\njazz,2010,2.25,7.5,61203,Petrol,Dealer,Manual,0\\r\\nbrio,2014,5.3,6.8,16500,Petrol,Dealer,Manual,0\\r\\ncity,2016,10.9,13.6,30753,Petrol,Dealer,Automatic,0\\r\\ncity,2015,8.65,13.6,24800,Petrol,Dealer,Manual,0\\r\\ncity,2015,9.7,13.6,21780,Petrol,Dealer,Manual,0\\r\\njazz,2016,6,8.4,4000,Petrol,Dealer,Manual,0\\r\\ncity,2014,6.25,13.6,40126,Petrol,Dealer,Manual,0\\r\\nbrio,2015,5.25,5.9,14465,Petrol,Dealer,Manual,0\\r\\ncity,2006,2.1,7.6,50456,Petrol,Dealer,Manual,0\\r\\ncity,2014,8.25,14,63000,Diesel,Dealer,Manual,0\\r\\ncity,2016,8.99,11.8,9010,Petrol,Dealer,Manual,0\\r\\nbrio,2013,3.5,5.9,9800,Petrol,Dealer,Manual,0\\r\\njazz,2016,7.4,8.5,15059,Petrol,Dealer,Automatic,0\\r\\njazz,2016,5.65,7.9,28569,Petrol,Dealer,Manual,0\\r\\namaze,2015,5.75,7.5,44000,Petrol,Dealer,Automatic,0\\r\\ncity,2015,8.4,13.6,34000,Petrol,Dealer,Manual,0\\r\\ncity,2016,10.11,13.6,10980,Petrol,Dealer,Manual,0\\r\\namaze,2014,4.5,6.4,19000,Petrol,Dealer,Manual,0\\r\\nbrio,2015,5.4,6.1,31427,Petrol,Dealer,Manual,0\\r\\njazz,2016,6.4,8.4,12000,Petrol,Dealer,Manual,0\\r\\ncity,2010,3.25,9.9,38000,Petrol,Dealer,Manual,0\\r\\namaze,2014,3.75,6.8,33019,Petrol,Dealer,Manual,0\\r\\ncity,2015,8.55,13.09,60076,Diesel,Dealer,Manual,0\\r\\ncity,2016,9.5,11.6,33988,Diesel,Dealer,Manual,0\\r\\nbrio,2015,4,5.9,60000,Petrol,Dealer,Manual,0\\r\\ncity,2009,3.35,11,87934,Petrol,Dealer,Manual,0\\r\\ncity,2017,11.5,12.5,9000,Diesel,Dealer,Manual,0\\r\\nbrio,2016,5.3,5.9,5464,Petrol,Dealer,Manual,0\\r\\n'}"
            ]
          },
          "metadata": {},
          "execution_count": 17
        }
      ]
    },
    {
      "cell_type": "code",
      "source": [
        "df=pd.read_csv(\"car_data.csv\")\n",
        "df"
      ],
      "metadata": {
        "colab": {
          "base_uri": "https://localhost:8080/",
          "height": 423
        },
        "id": "CfZkcuJR20M3",
        "outputId": "8bd390cd-d959-469d-e710-308fa059cfda"
      },
      "execution_count": null,
      "outputs": [
        {
          "output_type": "execute_result",
          "data": {
            "text/plain": [
              "    Car_Name  Year  Selling_Price  Present_Price  Kms_Driven Fuel_Type  \\\n",
              "0       ritz  2014           3.35           5.59       27000    Petrol   \n",
              "1        sx4  2013           4.75           9.54       43000    Diesel   \n",
              "2       ciaz  2017           7.25           9.85        6900    Petrol   \n",
              "3    wagon r  2011           2.85           4.15        5200    Petrol   \n",
              "4      swift  2014           4.60           6.87       42450    Diesel   \n",
              "..       ...   ...            ...            ...         ...       ...   \n",
              "296     city  2016           9.50          11.60       33988    Diesel   \n",
              "297     brio  2015           4.00           5.90       60000    Petrol   \n",
              "298     city  2009           3.35          11.00       87934    Petrol   \n",
              "299     city  2017          11.50          12.50        9000    Diesel   \n",
              "300     brio  2016           5.30           5.90        5464    Petrol   \n",
              "\n",
              "    Seller_Type Transmission  Owner  \n",
              "0        Dealer       Manual      0  \n",
              "1        Dealer       Manual      0  \n",
              "2        Dealer       Manual      0  \n",
              "3        Dealer       Manual      0  \n",
              "4        Dealer       Manual      0  \n",
              "..          ...          ...    ...  \n",
              "296      Dealer       Manual      0  \n",
              "297      Dealer       Manual      0  \n",
              "298      Dealer       Manual      0  \n",
              "299      Dealer       Manual      0  \n",
              "300      Dealer       Manual      0  \n",
              "\n",
              "[301 rows x 9 columns]"
            ],
            "text/html": [
              "\n",
              "  <div id=\"df-50255be2-2d06-4078-bfb9-5a32954cd74c\" class=\"colab-df-container\">\n",
              "    <div>\n",
              "<style scoped>\n",
              "    .dataframe tbody tr th:only-of-type {\n",
              "        vertical-align: middle;\n",
              "    }\n",
              "\n",
              "    .dataframe tbody tr th {\n",
              "        vertical-align: top;\n",
              "    }\n",
              "\n",
              "    .dataframe thead th {\n",
              "        text-align: right;\n",
              "    }\n",
              "</style>\n",
              "<table border=\"1\" class=\"dataframe\">\n",
              "  <thead>\n",
              "    <tr style=\"text-align: right;\">\n",
              "      <th></th>\n",
              "      <th>Car_Name</th>\n",
              "      <th>Year</th>\n",
              "      <th>Selling_Price</th>\n",
              "      <th>Present_Price</th>\n",
              "      <th>Kms_Driven</th>\n",
              "      <th>Fuel_Type</th>\n",
              "      <th>Seller_Type</th>\n",
              "      <th>Transmission</th>\n",
              "      <th>Owner</th>\n",
              "    </tr>\n",
              "  </thead>\n",
              "  <tbody>\n",
              "    <tr>\n",
              "      <th>0</th>\n",
              "      <td>ritz</td>\n",
              "      <td>2014</td>\n",
              "      <td>3.35</td>\n",
              "      <td>5.59</td>\n",
              "      <td>27000</td>\n",
              "      <td>Petrol</td>\n",
              "      <td>Dealer</td>\n",
              "      <td>Manual</td>\n",
              "      <td>0</td>\n",
              "    </tr>\n",
              "    <tr>\n",
              "      <th>1</th>\n",
              "      <td>sx4</td>\n",
              "      <td>2013</td>\n",
              "      <td>4.75</td>\n",
              "      <td>9.54</td>\n",
              "      <td>43000</td>\n",
              "      <td>Diesel</td>\n",
              "      <td>Dealer</td>\n",
              "      <td>Manual</td>\n",
              "      <td>0</td>\n",
              "    </tr>\n",
              "    <tr>\n",
              "      <th>2</th>\n",
              "      <td>ciaz</td>\n",
              "      <td>2017</td>\n",
              "      <td>7.25</td>\n",
              "      <td>9.85</td>\n",
              "      <td>6900</td>\n",
              "      <td>Petrol</td>\n",
              "      <td>Dealer</td>\n",
              "      <td>Manual</td>\n",
              "      <td>0</td>\n",
              "    </tr>\n",
              "    <tr>\n",
              "      <th>3</th>\n",
              "      <td>wagon r</td>\n",
              "      <td>2011</td>\n",
              "      <td>2.85</td>\n",
              "      <td>4.15</td>\n",
              "      <td>5200</td>\n",
              "      <td>Petrol</td>\n",
              "      <td>Dealer</td>\n",
              "      <td>Manual</td>\n",
              "      <td>0</td>\n",
              "    </tr>\n",
              "    <tr>\n",
              "      <th>4</th>\n",
              "      <td>swift</td>\n",
              "      <td>2014</td>\n",
              "      <td>4.60</td>\n",
              "      <td>6.87</td>\n",
              "      <td>42450</td>\n",
              "      <td>Diesel</td>\n",
              "      <td>Dealer</td>\n",
              "      <td>Manual</td>\n",
              "      <td>0</td>\n",
              "    </tr>\n",
              "    <tr>\n",
              "      <th>...</th>\n",
              "      <td>...</td>\n",
              "      <td>...</td>\n",
              "      <td>...</td>\n",
              "      <td>...</td>\n",
              "      <td>...</td>\n",
              "      <td>...</td>\n",
              "      <td>...</td>\n",
              "      <td>...</td>\n",
              "      <td>...</td>\n",
              "    </tr>\n",
              "    <tr>\n",
              "      <th>296</th>\n",
              "      <td>city</td>\n",
              "      <td>2016</td>\n",
              "      <td>9.50</td>\n",
              "      <td>11.60</td>\n",
              "      <td>33988</td>\n",
              "      <td>Diesel</td>\n",
              "      <td>Dealer</td>\n",
              "      <td>Manual</td>\n",
              "      <td>0</td>\n",
              "    </tr>\n",
              "    <tr>\n",
              "      <th>297</th>\n",
              "      <td>brio</td>\n",
              "      <td>2015</td>\n",
              "      <td>4.00</td>\n",
              "      <td>5.90</td>\n",
              "      <td>60000</td>\n",
              "      <td>Petrol</td>\n",
              "      <td>Dealer</td>\n",
              "      <td>Manual</td>\n",
              "      <td>0</td>\n",
              "    </tr>\n",
              "    <tr>\n",
              "      <th>298</th>\n",
              "      <td>city</td>\n",
              "      <td>2009</td>\n",
              "      <td>3.35</td>\n",
              "      <td>11.00</td>\n",
              "      <td>87934</td>\n",
              "      <td>Petrol</td>\n",
              "      <td>Dealer</td>\n",
              "      <td>Manual</td>\n",
              "      <td>0</td>\n",
              "    </tr>\n",
              "    <tr>\n",
              "      <th>299</th>\n",
              "      <td>city</td>\n",
              "      <td>2017</td>\n",
              "      <td>11.50</td>\n",
              "      <td>12.50</td>\n",
              "      <td>9000</td>\n",
              "      <td>Diesel</td>\n",
              "      <td>Dealer</td>\n",
              "      <td>Manual</td>\n",
              "      <td>0</td>\n",
              "    </tr>\n",
              "    <tr>\n",
              "      <th>300</th>\n",
              "      <td>brio</td>\n",
              "      <td>2016</td>\n",
              "      <td>5.30</td>\n",
              "      <td>5.90</td>\n",
              "      <td>5464</td>\n",
              "      <td>Petrol</td>\n",
              "      <td>Dealer</td>\n",
              "      <td>Manual</td>\n",
              "      <td>0</td>\n",
              "    </tr>\n",
              "  </tbody>\n",
              "</table>\n",
              "<p>301 rows × 9 columns</p>\n",
              "</div>\n",
              "    <div class=\"colab-df-buttons\">\n",
              "\n",
              "  <div class=\"colab-df-container\">\n",
              "    <button class=\"colab-df-convert\" onclick=\"convertToInteractive('df-50255be2-2d06-4078-bfb9-5a32954cd74c')\"\n",
              "            title=\"Convert this dataframe to an interactive table.\"\n",
              "            style=\"display:none;\">\n",
              "\n",
              "  <svg xmlns=\"http://www.w3.org/2000/svg\" height=\"24px\" viewBox=\"0 -960 960 960\">\n",
              "    <path d=\"M120-120v-720h720v720H120Zm60-500h600v-160H180v160Zm220 220h160v-160H400v160Zm0 220h160v-160H400v160ZM180-400h160v-160H180v160Zm440 0h160v-160H620v160ZM180-180h160v-160H180v160Zm440 0h160v-160H620v160Z\"/>\n",
              "  </svg>\n",
              "    </button>\n",
              "\n",
              "  <style>\n",
              "    .colab-df-container {\n",
              "      display:flex;\n",
              "      gap: 12px;\n",
              "    }\n",
              "\n",
              "    .colab-df-convert {\n",
              "      background-color: #E8F0FE;\n",
              "      border: none;\n",
              "      border-radius: 50%;\n",
              "      cursor: pointer;\n",
              "      display: none;\n",
              "      fill: #1967D2;\n",
              "      height: 32px;\n",
              "      padding: 0 0 0 0;\n",
              "      width: 32px;\n",
              "    }\n",
              "\n",
              "    .colab-df-convert:hover {\n",
              "      background-color: #E2EBFA;\n",
              "      box-shadow: 0px 1px 2px rgba(60, 64, 67, 0.3), 0px 1px 3px 1px rgba(60, 64, 67, 0.15);\n",
              "      fill: #174EA6;\n",
              "    }\n",
              "\n",
              "    .colab-df-buttons div {\n",
              "      margin-bottom: 4px;\n",
              "    }\n",
              "\n",
              "    [theme=dark] .colab-df-convert {\n",
              "      background-color: #3B4455;\n",
              "      fill: #D2E3FC;\n",
              "    }\n",
              "\n",
              "    [theme=dark] .colab-df-convert:hover {\n",
              "      background-color: #434B5C;\n",
              "      box-shadow: 0px 1px 3px 1px rgba(0, 0, 0, 0.15);\n",
              "      filter: drop-shadow(0px 1px 2px rgba(0, 0, 0, 0.3));\n",
              "      fill: #FFFFFF;\n",
              "    }\n",
              "  </style>\n",
              "\n",
              "    <script>\n",
              "      const buttonEl =\n",
              "        document.querySelector('#df-50255be2-2d06-4078-bfb9-5a32954cd74c button.colab-df-convert');\n",
              "      buttonEl.style.display =\n",
              "        google.colab.kernel.accessAllowed ? 'block' : 'none';\n",
              "\n",
              "      async function convertToInteractive(key) {\n",
              "        const element = document.querySelector('#df-50255be2-2d06-4078-bfb9-5a32954cd74c');\n",
              "        const dataTable =\n",
              "          await google.colab.kernel.invokeFunction('convertToInteractive',\n",
              "                                                    [key], {});\n",
              "        if (!dataTable) return;\n",
              "\n",
              "        const docLinkHtml = 'Like what you see? Visit the ' +\n",
              "          '<a target=\"_blank\" href=https://colab.research.google.com/notebooks/data_table.ipynb>data table notebook</a>'\n",
              "          + ' to learn more about interactive tables.';\n",
              "        element.innerHTML = '';\n",
              "        dataTable['output_type'] = 'display_data';\n",
              "        await google.colab.output.renderOutput(dataTable, element);\n",
              "        const docLink = document.createElement('div');\n",
              "        docLink.innerHTML = docLinkHtml;\n",
              "        element.appendChild(docLink);\n",
              "      }\n",
              "    </script>\n",
              "  </div>\n",
              "\n",
              "\n",
              "<div id=\"df-e58b88cf-9b64-4735-b4ff-81cca9ea1581\">\n",
              "  <button class=\"colab-df-quickchart\" onclick=\"quickchart('df-e58b88cf-9b64-4735-b4ff-81cca9ea1581')\"\n",
              "            title=\"Suggest charts\"\n",
              "            style=\"display:none;\">\n",
              "\n",
              "<svg xmlns=\"http://www.w3.org/2000/svg\" height=\"24px\"viewBox=\"0 0 24 24\"\n",
              "     width=\"24px\">\n",
              "    <g>\n",
              "        <path d=\"M19 3H5c-1.1 0-2 .9-2 2v14c0 1.1.9 2 2 2h14c1.1 0 2-.9 2-2V5c0-1.1-.9-2-2-2zM9 17H7v-7h2v7zm4 0h-2V7h2v10zm4 0h-2v-4h2v4z\"/>\n",
              "    </g>\n",
              "</svg>\n",
              "  </button>\n",
              "\n",
              "<style>\n",
              "  .colab-df-quickchart {\n",
              "      --bg-color: #E8F0FE;\n",
              "      --fill-color: #1967D2;\n",
              "      --hover-bg-color: #E2EBFA;\n",
              "      --hover-fill-color: #174EA6;\n",
              "      --disabled-fill-color: #AAA;\n",
              "      --disabled-bg-color: #DDD;\n",
              "  }\n",
              "\n",
              "  [theme=dark] .colab-df-quickchart {\n",
              "      --bg-color: #3B4455;\n",
              "      --fill-color: #D2E3FC;\n",
              "      --hover-bg-color: #434B5C;\n",
              "      --hover-fill-color: #FFFFFF;\n",
              "      --disabled-bg-color: #3B4455;\n",
              "      --disabled-fill-color: #666;\n",
              "  }\n",
              "\n",
              "  .colab-df-quickchart {\n",
              "    background-color: var(--bg-color);\n",
              "    border: none;\n",
              "    border-radius: 50%;\n",
              "    cursor: pointer;\n",
              "    display: none;\n",
              "    fill: var(--fill-color);\n",
              "    height: 32px;\n",
              "    padding: 0;\n",
              "    width: 32px;\n",
              "  }\n",
              "\n",
              "  .colab-df-quickchart:hover {\n",
              "    background-color: var(--hover-bg-color);\n",
              "    box-shadow: 0 1px 2px rgba(60, 64, 67, 0.3), 0 1px 3px 1px rgba(60, 64, 67, 0.15);\n",
              "    fill: var(--button-hover-fill-color);\n",
              "  }\n",
              "\n",
              "  .colab-df-quickchart-complete:disabled,\n",
              "  .colab-df-quickchart-complete:disabled:hover {\n",
              "    background-color: var(--disabled-bg-color);\n",
              "    fill: var(--disabled-fill-color);\n",
              "    box-shadow: none;\n",
              "  }\n",
              "\n",
              "  .colab-df-spinner {\n",
              "    border: 2px solid var(--fill-color);\n",
              "    border-color: transparent;\n",
              "    border-bottom-color: var(--fill-color);\n",
              "    animation:\n",
              "      spin 1s steps(1) infinite;\n",
              "  }\n",
              "\n",
              "  @keyframes spin {\n",
              "    0% {\n",
              "      border-color: transparent;\n",
              "      border-bottom-color: var(--fill-color);\n",
              "      border-left-color: var(--fill-color);\n",
              "    }\n",
              "    20% {\n",
              "      border-color: transparent;\n",
              "      border-left-color: var(--fill-color);\n",
              "      border-top-color: var(--fill-color);\n",
              "    }\n",
              "    30% {\n",
              "      border-color: transparent;\n",
              "      border-left-color: var(--fill-color);\n",
              "      border-top-color: var(--fill-color);\n",
              "      border-right-color: var(--fill-color);\n",
              "    }\n",
              "    40% {\n",
              "      border-color: transparent;\n",
              "      border-right-color: var(--fill-color);\n",
              "      border-top-color: var(--fill-color);\n",
              "    }\n",
              "    60% {\n",
              "      border-color: transparent;\n",
              "      border-right-color: var(--fill-color);\n",
              "    }\n",
              "    80% {\n",
              "      border-color: transparent;\n",
              "      border-right-color: var(--fill-color);\n",
              "      border-bottom-color: var(--fill-color);\n",
              "    }\n",
              "    90% {\n",
              "      border-color: transparent;\n",
              "      border-bottom-color: var(--fill-color);\n",
              "    }\n",
              "  }\n",
              "</style>\n",
              "\n",
              "  <script>\n",
              "    async function quickchart(key) {\n",
              "      const quickchartButtonEl =\n",
              "        document.querySelector('#' + key + ' button');\n",
              "      quickchartButtonEl.disabled = true;  // To prevent multiple clicks.\n",
              "      quickchartButtonEl.classList.add('colab-df-spinner');\n",
              "      try {\n",
              "        const charts = await google.colab.kernel.invokeFunction(\n",
              "            'suggestCharts', [key], {});\n",
              "      } catch (error) {\n",
              "        console.error('Error during call to suggestCharts:', error);\n",
              "      }\n",
              "      quickchartButtonEl.classList.remove('colab-df-spinner');\n",
              "      quickchartButtonEl.classList.add('colab-df-quickchart-complete');\n",
              "    }\n",
              "    (() => {\n",
              "      let quickchartButtonEl =\n",
              "        document.querySelector('#df-e58b88cf-9b64-4735-b4ff-81cca9ea1581 button');\n",
              "      quickchartButtonEl.style.display =\n",
              "        google.colab.kernel.accessAllowed ? 'block' : 'none';\n",
              "    })();\n",
              "  </script>\n",
              "</div>\n",
              "\n",
              "  <div id=\"id_aaaacbc6-7e7b-40c0-97db-4467f3a02ade\">\n",
              "    <style>\n",
              "      .colab-df-generate {\n",
              "        background-color: #E8F0FE;\n",
              "        border: none;\n",
              "        border-radius: 50%;\n",
              "        cursor: pointer;\n",
              "        display: none;\n",
              "        fill: #1967D2;\n",
              "        height: 32px;\n",
              "        padding: 0 0 0 0;\n",
              "        width: 32px;\n",
              "      }\n",
              "\n",
              "      .colab-df-generate:hover {\n",
              "        background-color: #E2EBFA;\n",
              "        box-shadow: 0px 1px 2px rgba(60, 64, 67, 0.3), 0px 1px 3px 1px rgba(60, 64, 67, 0.15);\n",
              "        fill: #174EA6;\n",
              "      }\n",
              "\n",
              "      [theme=dark] .colab-df-generate {\n",
              "        background-color: #3B4455;\n",
              "        fill: #D2E3FC;\n",
              "      }\n",
              "\n",
              "      [theme=dark] .colab-df-generate:hover {\n",
              "        background-color: #434B5C;\n",
              "        box-shadow: 0px 1px 3px 1px rgba(0, 0, 0, 0.15);\n",
              "        filter: drop-shadow(0px 1px 2px rgba(0, 0, 0, 0.3));\n",
              "        fill: #FFFFFF;\n",
              "      }\n",
              "    </style>\n",
              "    <button class=\"colab-df-generate\" onclick=\"generateWithVariable('df')\"\n",
              "            title=\"Generate code using this dataframe.\"\n",
              "            style=\"display:none;\">\n",
              "\n",
              "  <svg xmlns=\"http://www.w3.org/2000/svg\" height=\"24px\"viewBox=\"0 0 24 24\"\n",
              "       width=\"24px\">\n",
              "    <path d=\"M7,19H8.4L18.45,9,17,7.55,7,17.6ZM5,21V16.75L18.45,3.32a2,2,0,0,1,2.83,0l1.4,1.43a1.91,1.91,0,0,1,.58,1.4,1.91,1.91,0,0,1-.58,1.4L9.25,21ZM18.45,9,17,7.55Zm-12,3A5.31,5.31,0,0,0,4.9,8.1,5.31,5.31,0,0,0,1,6.5,5.31,5.31,0,0,0,4.9,4.9,5.31,5.31,0,0,0,6.5,1,5.31,5.31,0,0,0,8.1,4.9,5.31,5.31,0,0,0,12,6.5,5.46,5.46,0,0,0,6.5,12Z\"/>\n",
              "  </svg>\n",
              "    </button>\n",
              "    <script>\n",
              "      (() => {\n",
              "      const buttonEl =\n",
              "        document.querySelector('#id_aaaacbc6-7e7b-40c0-97db-4467f3a02ade button.colab-df-generate');\n",
              "      buttonEl.style.display =\n",
              "        google.colab.kernel.accessAllowed ? 'block' : 'none';\n",
              "\n",
              "      buttonEl.onclick = () => {\n",
              "        google.colab.notebook.generateWithVariable('df');\n",
              "      }\n",
              "      })();\n",
              "    </script>\n",
              "  </div>\n",
              "\n",
              "    </div>\n",
              "  </div>\n"
            ]
          },
          "metadata": {},
          "execution_count": 18
        }
      ]
    },
    {
      "cell_type": "code",
      "source": [
        "correlation=df.corr()\n",
        "print(correlation)"
      ],
      "metadata": {
        "colab": {
          "base_uri": "https://localhost:8080/"
        },
        "id": "IvfaXrFu27Iz",
        "outputId": "dc72a872-5f98-4182-9d16-8881775881c5"
      },
      "execution_count": null,
      "outputs": [
        {
          "output_type": "stream",
          "name": "stdout",
          "text": [
            "                   Year  Selling_Price  Present_Price  Kms_Driven     Owner\n",
            "Year           1.000000       0.236141      -0.047584   -0.524342 -0.182104\n",
            "Selling_Price  0.236141       1.000000       0.878983    0.029187 -0.088344\n",
            "Present_Price -0.047584       0.878983       1.000000    0.203647  0.008057\n",
            "Kms_Driven    -0.524342       0.029187       0.203647    1.000000  0.089216\n",
            "Owner         -0.182104      -0.088344       0.008057    0.089216  1.000000\n"
          ]
        },
        {
          "output_type": "stream",
          "name": "stderr",
          "text": [
            "<ipython-input-19-3f2743162e19>:1: FutureWarning: The default value of numeric_only in DataFrame.corr is deprecated. In a future version, it will default to False. Select only valid columns or specify the value of numeric_only to silence this warning.\n",
            "  correlation=df.corr()\n"
          ]
        }
      ]
    },
    {
      "cell_type": "code",
      "source": [
        "import seaborn as sns\n",
        "import matplotlib.pyplot as plt\n",
        "plt.figure(figsize=(10, 8))\n",
        "sns.heatmap(correlation, annot=True, cmap='coolwarm', fmt=\".5f\", linewidths=1)\n",
        "plt.title('Correlation Between Columns')\n",
        "plt.show()"
      ],
      "metadata": {
        "colab": {
          "base_uri": "https://localhost:8080/",
          "height": 699
        },
        "id": "47KhA0Jw3Yyk",
        "outputId": "ce3cecda-20a7-4b44-eecd-0eb1d3f8489b"
      },
      "execution_count": null,
      "outputs": [
        {
          "output_type": "display_data",
          "data": {
            "text/plain": [
              "<Figure size 1000x800 with 2 Axes>"
            ],
            "image/png": "[encoded data removed]"
          },
          "metadata": {}
        }
      ]
    },
    {
      "cell_type": "code",
      "source": [
        "trans=df['Transmission'].unique()\n",
        "print(trans)\n",
        "fuel=df['Fuel_Type'].unique()\n",
        "print(fuel)"
      ],
      "metadata": {
        "colab": {
          "base_uri": "https://localhost:8080/"
        },
        "id": "awpF2oG045Q1",
        "outputId": "153a9392-35e8-4ee3-981c-b809b35e12eb"
      },
      "execution_count": null,
      "outputs": [
        {
          "output_type": "stream",
          "name": "stdout",
          "text": [
            "['Manual' 'Automatic']\n",
            "['Petrol' 'Diesel' 'CNG']\n"
          ]
        }
      ]
    },
    {
      "cell_type": "code",
      "source": [
        "X=np.asanyarray(df[['Year','Present_Price','Kms_Driven','Fuel_Type','Transmission']])\n",
        "X"
      ],
      "metadata": {
        "colab": {
          "base_uri": "https://localhost:8080/"
        },
        "id": "o7H2O9es5-qs",
        "outputId": "90da07fe-48f1-466b-98a0-a26ac8876359"
      },
      "execution_count": null,
      "outputs": [
        {
          "output_type": "execute_result",
          "data": {
            "text/plain": [
              "array([[2014, 5.59, 27000, 'Petrol', 'Manual'],\n",
              "       [2013, 9.54, 43000, 'Diesel', 'Manual'],\n",
              "       [2017, 9.85, 6900, 'Petrol', 'Manual'],\n",
              "       ...,\n",
              "       [2009, 11.0, 87934, 'Petrol', 'Manual'],\n",
              "       [2017, 12.5, 9000, 'Diesel', 'Manual'],\n",
              "       [2016, 5.9, 5464, 'Petrol', 'Manual']], dtype=object)"
            ]
          },
          "metadata": {},
          "execution_count": 22
        }
      ]
    },
    {
      "cell_type": "code",
      "source": [
        "from sklearn import preprocessing\n",
        "\n",
        "le_fuel = preprocessing.LabelEncoder()\n",
        "le_fuel.fit(['Petrol', 'Diesel', 'CNG'])\n",
        "X[:, 3] = le_fuel.transform(X[:, 3])\n",
        "\n",
        "le_transmission = preprocessing.LabelEncoder()\n",
        "le_transmission.fit(['Manual', 'Automatic'])\n",
        "X[:, 4] = le_transmission.transform(X[:, 4])\n",
        "\n",
        "X\n",
        "\n"
      ],
      "metadata": {
        "colab": {
          "base_uri": "https://localhost:8080/"
        },
        "id": "pZCPStu53Y1V",
        "outputId": "43524284-e95e-458c-d687-77f054529cb5"
      },
      "execution_count": null,
      "outputs": [
        {
          "output_type": "execute_result",
          "data": {
            "text/plain": [
              "array([[2014, 5.59, 27000, 2, 1],\n",
              "       [2013, 9.54, 43000, 1, 1],\n",
              "       [2017, 9.85, 6900, 2, 1],\n",
              "       ...,\n",
              "       [2009, 11.0, 87934, 2, 1],\n",
              "       [2017, 12.5, 9000, 1, 1],\n",
              "       [2016, 5.9, 5464, 2, 1]], dtype=object)"
            ]
          },
          "metadata": {},
          "execution_count": 23
        }
      ]
    },
    {
      "cell_type": "code",
      "source": [
        "y=np.asanyarray(df['Selling_Price'])\n",
        "y"
      ],
      "metadata": {
        "colab": {
          "base_uri": "https://localhost:8080/"
        },
        "id": "lPgPTPGw3Y30",
        "outputId": "cb48406e-64ba-482b-8351-efb65521d4e5"
      },
      "execution_count": null,
      "outputs": [
        {
          "output_type": "execute_result",
          "data": {
            "text/plain": [
              "array([ 3.35,  4.75,  7.25,  2.85,  4.6 ,  9.25,  6.75,  6.5 ,  8.75,\n",
              "        7.45,  2.85,  6.85,  7.5 ,  6.1 ,  2.25,  7.75,  7.25,  7.75,\n",
              "        3.25,  2.65,  2.85,  4.9 ,  4.4 ,  2.5 ,  2.9 ,  3.  ,  4.15,\n",
              "        6.  ,  1.95,  7.45,  3.1 ,  2.35,  4.95,  6.  ,  5.5 ,  2.95,\n",
              "        4.65,  0.35,  3.  ,  2.25,  5.85,  2.55,  1.95,  5.5 ,  1.25,\n",
              "        7.5 ,  2.65,  1.05,  5.8 ,  7.75, 14.9 , 23.  , 18.  , 16.  ,\n",
              "        2.75,  3.6 ,  4.5 ,  4.75,  4.1 , 19.99,  6.95,  4.5 , 18.75,\n",
              "       23.5 , 33.  ,  4.75, 19.75,  9.25,  4.35, 14.25,  3.95,  4.5 ,\n",
              "        7.45,  2.65,  4.9 ,  3.95,  5.5 ,  1.5 ,  5.25, 14.5 , 14.73,\n",
              "        4.75, 23.  , 12.5 ,  3.49,  2.5 , 35.  ,  5.9 ,  3.45,  4.75,\n",
              "        3.8 , 11.25,  3.51, 23.  ,  4.  ,  5.85, 20.75, 17.  ,  7.05,\n",
              "        9.65,  1.75,  1.7 ,  1.65,  1.45,  1.35,  1.35,  1.35,  1.25,\n",
              "        1.2 ,  1.2 ,  1.2 ,  1.15,  1.15,  1.15,  1.15,  1.11,  1.1 ,\n",
              "        1.1 ,  1.1 ,  1.05,  1.05,  1.05,  1.05,  1.  ,  0.95,  0.9 ,\n",
              "        0.9 ,  0.75,  0.8 ,  0.78,  0.75,  0.75,  0.75,  0.72,  0.65,\n",
              "        0.65,  0.65,  0.65,  0.6 ,  0.6 ,  0.6 ,  0.6 ,  0.6 ,  0.6 ,\n",
              "        0.6 ,  0.6 ,  0.55,  0.55,  0.52,  0.51,  0.5 ,  0.5 ,  0.5 ,\n",
              "        0.5 ,  0.5 ,  0.48,  0.48,  0.48,  0.48,  0.45,  0.45,  0.45,\n",
              "        0.45,  0.45,  0.45,  0.45,  0.45,  0.42,  0.42,  0.4 ,  0.4 ,\n",
              "        0.4 ,  0.4 ,  0.4 ,  0.38,  0.38,  0.35,  0.35,  0.35,  0.31,\n",
              "        0.3 ,  0.3 ,  0.3 ,  0.27,  0.25,  0.25,  0.25,  0.25,  0.25,\n",
              "        0.2 ,  0.2 ,  0.2 ,  0.2 ,  0.2 ,  0.2 ,  0.18,  0.17,  0.16,\n",
              "        0.15,  0.12,  0.1 ,  3.25,  4.4 ,  2.95,  2.75,  5.25,  5.75,\n",
              "        5.15,  7.9 ,  4.85,  3.1 , 11.75, 11.25,  2.9 ,  5.25,  4.5 ,\n",
              "        2.9 ,  3.15,  6.45,  4.5 ,  3.5 ,  4.5 ,  6.  ,  8.25,  5.11,\n",
              "        2.7 ,  5.25,  2.55,  4.95,  3.1 ,  6.15,  9.25, 11.45,  3.9 ,\n",
              "        5.5 ,  9.1 ,  3.1 , 11.25,  4.8 ,  2.  ,  5.35,  4.75,  4.4 ,\n",
              "        6.25,  5.95,  5.2 ,  3.75,  5.95,  4.  ,  5.25, 12.9 ,  5.  ,\n",
              "        5.4 ,  7.2 ,  5.25,  3.  , 10.25,  8.5 ,  8.4 ,  3.9 ,  9.15,\n",
              "        5.5 ,  4.  ,  6.6 ,  4.  ,  6.5 ,  3.65,  8.35,  4.8 ,  6.7 ,\n",
              "        4.1 ,  3.  ,  7.5 ,  2.25,  5.3 , 10.9 ,  8.65,  9.7 ,  6.  ,\n",
              "        6.25,  5.25,  2.1 ,  8.25,  8.99,  3.5 ,  7.4 ,  5.65,  5.75,\n",
              "        8.4 , 10.11,  4.5 ,  5.4 ,  6.4 ,  3.25,  3.75,  8.55,  9.5 ,\n",
              "        4.  ,  3.35, 11.5 ,  5.3 ])"
            ]
          },
          "metadata": {},
          "execution_count": 24
        }
      ]
    },
    {
      "cell_type": "code",
      "source": [
        "from sklearn.model_selection import train_test_split\n",
        "X_train,X_test,y_train,y_test=train_test_split(X,y,test_size=0.2,random_state=3)\n",
        "print(\"Training set: \",X_train.shape,y_train.shape)\n",
        "print(\"testing set: \",X_test.shape,y_test.shape)"
      ],
      "metadata": {
        "colab": {
          "base_uri": "https://localhost:8080/"
        },
        "id": "mhdVs9q_3Y6e",
        "outputId": "08d9f841-762d-498b-9bc7-5920ed6de6a3"
      },
      "execution_count": null,
      "outputs": [
        {
          "output_type": "stream",
          "name": "stdout",
          "text": [
            "Training set:  (240, 5) (240,)\n",
            "testing set:  (61, 5) (61,)\n"
          ]
        }
      ]
    },
    {
      "cell_type": "code",
      "source": [
        "from sklearn import linear_model\n",
        "regr=linear_model.LinearRegression()\n",
        "\n",
        "regr.fit(X_train,y_train)\n",
        "y_pred=regr.predict(X_test)\n",
        "\n",
        "\n",
        "\n",
        "\n"
      ],
      "metadata": {
        "id": "m15gs2pW8MO2"
      },
      "execution_count": null,
      "outputs": []
    },
    {
      "cell_type": "code",
      "source": [
        "from sklearn.metrics import mean_squared_error\n",
        "\n",
        "mse = mean_squared_error(y_test, y_pred)\n",
        "print(f'Mean Squared Error: {mse}')\n"
      ],
      "metadata": {
        "colab": {
          "base_uri": "https://localhost:8080/"
        },
        "id": "GZpGLJdo9h5-",
        "outputId": "eb7d7d11-5e4f-43a2-ef40-42a8573fc93e"
      },
      "execution_count": null,
      "outputs": [
        {
          "output_type": "stream",
          "name": "stdout",
          "text": [
            "Mean Squared Error: 3.5289364823463845\n"
          ]
        }
      ]
    },
    {
      "cell_type": "code",
      "source": [
        "sns.regplot(x=y_test, y=y_pred, ci=None, color=\"r\")"
      ],
      "metadata": {
        "colab": {
          "base_uri": "https://localhost:8080/",
          "height": 448
        },
        "id": "ueJgFbgmACQk",
        "outputId": "827799ee-bdeb-4ceb-b5d5-f6a8dd72b00c"
      },
      "execution_count": null,
      "outputs": [
        {
          "output_type": "execute_result",
          "data": {
            "text/plain": [
              "<Axes: >"
            ]
          },
          "metadata": {},
          "execution_count": 35
        },
        {
          "output_type": "display_data",
          "data": {
            "text/plain": [
              "<Figure size 640x480 with 1 Axes>"
            ],
            "image/png": "[encoded data removed]"
          },
          "metadata": {}
        }
      ]
    },
    {
      "cell_type": "code",
      "source": [
        "ax1 = sns.distplot(y_test, hist=False, color=\"r\", label=\"Actual Value\")\n",
        "sns.distplot(y_pred, hist=False, color=\"b\", label=\"Fitted Values\" , ax=ax1)"
      ],
      "metadata": {
        "colab": {
          "base_uri": "https://localhost:8080/",
          "height": 847
        },
        "id": "sbOR1CVGATJ0",
        "outputId": "73b1d246-4c26-4e78-f7fa-0a0da8d9c882"
      },
      "execution_count": null,
      "outputs": [
        {
          "output_type": "stream",
          "name": "stderr",
          "text": [
            "<ipython-input-39-ee710fd0f58a>:1: UserWarning: \n",
            "\n",
            "`distplot` is a deprecated function and will be removed in seaborn v0.14.0.\n",
            "\n",
            "Please adapt your code to use either `displot` (a figure-level function with\n",
            "similar flexibility) or `kdeplot` (an axes-level function for kernel density plots).\n",
            "\n",
            "For a guide to updating your code to use the new functions, please see\n",
            "https://gist.github.com/mwaskom/de44147ed2974457ad6372750bbe5751\n",
            "\n",
            "  ax1 = sns.distplot(y_test, hist=False, color=\"r\", label=\"Actual Value\")\n",
            "<ipython-input-39-ee710fd0f58a>:2: UserWarning: \n",
            "\n",
            "`distplot` is a deprecated function and will be removed in seaborn v0.14.0.\n",
            "\n",
            "Please adapt your code to use either `displot` (a figure-level function with\n",
            "similar flexibility) or `kdeplot` (an axes-level function for kernel density plots).\n",
            "\n",
            "For a guide to updating your code to use the new functions, please see\n",
            "https://gist.github.com/mwaskom/de44147ed2974457ad6372750bbe5751\n",
            "\n",
            "  sns.distplot(y_pred, hist=False, color=\"b\", label=\"Fitted Values\" , ax=ax1)\n"
          ]
        },
        {
          "output_type": "execute_result",
          "data": {
            "text/plain": [
              "<Axes: ylabel='Density'>"
            ]
          },
          "metadata": {},
          "execution_count": 39
        },
        {
          "output_type": "display_data",
          "data": {
            "text/plain": [
              "<Figure size 640x480 with 1 Axes>"
            ],
            "image/png": "[encoded data removed]"
          },
          "metadata": {}
        }
      ]
    }
  ]
}