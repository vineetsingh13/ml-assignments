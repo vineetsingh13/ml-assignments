{
  "nbformat": 4,
  "nbformat_minor": 0,
  "metadata": {
    "colab": {
      "provenance": []
    },
    "kernelspec": {
      "name": "python3",
      "display_name": "Python 3"
    },
    "language_info": {
      "name": "python"
    }
  },
  "cells": [
    {
      "cell_type": "code",
      "execution_count": null,
      "metadata": {
        "id": "wTVidnGeBsMG"
      },
      "outputs": [],
      "source": [
        "import numpy as np\n",
        "import matplotlib.pyplot as plt\n",
        "import pandas as pd\n",
        "import keras\n",
        "from keras.models import Sequential\n",
        "from keras.layers import Dense\n",
        "from keras.utils import to_categorical\n",
        "from keras.datasets import mnist"
      ]
    },
    {
      "cell_type": "code",
      "source": [
        "# load data\n",
        "(X_train, y_train), (X_test, y_test) = mnist.load_data()\n",
        "\n",
        "# reshape to be [samples][pixels][width][height]\n",
        "X_train = X_train.reshape(X_train.shape[0], 28, 28, 1).astype('float32')\n",
        "X_test = X_test.reshape(X_test.shape[0], 28, 28, 1).astype('float32')"
      ],
      "metadata": {
        "id": "lzVYkPd9Dw20"
      },
      "execution_count": null,
      "outputs": []
    },
    {
      "cell_type": "code",
      "source": [
        "X_train = X_train / 255 # normalize training data\n",
        "X_test = X_test / 255 # normalize test data"
      ],
      "metadata": {
        "id": "qZsqblHNF-1l"
      },
      "execution_count": null,
      "outputs": []
    },
    {
      "cell_type": "code",
      "source": [
        "y_train = to_categorical(y_train)\n",
        "y_test = to_categorical(y_test)\n",
        "\n",
        "num_classes = y_test.shape[1]\n",
        "print(num_classes)"
      ],
      "metadata": {
        "colab": {
          "base_uri": "https://localhost:8080/"
        },
        "id": "pSNFE3XpEAIM",
        "outputId": "89b0b4e6-64ca-4220-85e9-377bef56c749"
      },
      "execution_count": null,
      "outputs": [
        {
          "output_type": "stream",
          "name": "stdout",
          "text": [
            "10\n"
          ]
        }
      ]
    },
    {
      "cell_type": "code",
      "source": [
        "!pip install keras"
      ],
      "metadata": {
        "colab": {
          "base_uri": "https://localhost:8080/"
        },
        "id": "8prAiFk2EadU",
        "outputId": "1d382989-7207-42c6-ec0d-4cfa9efa581e"
      },
      "execution_count": null,
      "outputs": [
        {
          "output_type": "stream",
          "name": "stdout",
          "text": [
            "Requirement already satisfied: keras in /usr/local/lib/python3.10/dist-packages (2.15.0)\n"
          ]
        }
      ]
    },
    {
      "cell_type": "code",
      "source": [
        "from keras.layers import Conv2D\n",
        "from keras.layers import MaxPooling2D\n",
        "from keras.layers import Flatten"
      ],
      "metadata": {
        "id": "JTYAPqSPEDOM"
      },
      "execution_count": null,
      "outputs": []
    },
    {
      "cell_type": "code",
      "source": [
        "def convolutional_model():\n",
        "\n",
        "    # create model\n",
        "    model = Sequential()\n",
        "    model.add(Conv2D(16, (5, 5), strides=(1, 1), activation='relu', input_shape=(28, 28, 1)))\n",
        "    model.add(MaxPooling2D(pool_size=(2, 2), strides=(2, 2)))\n",
        "\n",
        "    model.add(Flatten())\n",
        "    model.add(Dense(100, activation='relu'))\n",
        "    model.add(Dense(num_classes, activation='softmax'))\n",
        "\n",
        "    # compile model\n",
        "    model.compile(optimizer='adam', loss='categorical_crossentropy',  metrics=['accuracy'])\n",
        "    return model"
      ],
      "metadata": {
        "id": "HQbK-YLEELrU"
      },
      "execution_count": null,
      "outputs": []
    },
    {
      "cell_type": "code",
      "source": [
        "# build the model\n",
        "model = convolutional_model()\n",
        "\n",
        "# fit the model\n",
        "model.fit(X_train, y_train, validation_data=(X_test, y_test), epochs=10, batch_size=200, verbose=2)\n",
        "\n",
        "# evaluate the model\n",
        "scores = model.evaluate(X_test, y_test, verbose=0)\n",
        "print(\"Accuracy: {} \\n Error: {}\".format(scores[1], 100-scores[1]*100))"
      ],
      "metadata": {
        "colab": {
          "base_uri": "https://localhost:8080/"
        },
        "id": "KvY8RlcWFXpG",
        "outputId": "23661da5-6bc6-4fe4-d720-1703e4ef8ac0"
      },
      "execution_count": null,
      "outputs": [
        {
          "output_type": "stream",
          "name": "stdout",
          "text": [
            "Epoch 1/10\n",
            "300/300 - 20s - loss: 0.2670 - accuracy: 0.9288 - val_loss: 0.0922 - val_accuracy: 0.9731 - 20s/epoch - 66ms/step\n",
            "Epoch 2/10\n",
            "300/300 - 19s - loss: 0.0787 - accuracy: 0.9770 - val_loss: 0.0661 - val_accuracy: 0.9789 - 19s/epoch - 63ms/step\n",
            "Epoch 3/10\n",
            "300/300 - 18s - loss: 0.0552 - accuracy: 0.9839 - val_loss: 0.0436 - val_accuracy: 0.9858 - 18s/epoch - 61ms/step\n",
            "Epoch 4/10\n",
            "300/300 - 21s - loss: 0.0423 - accuracy: 0.9877 - val_loss: 0.0458 - val_accuracy: 0.9850 - 21s/epoch - 69ms/step\n",
            "Epoch 5/10\n",
            "300/300 - 18s - loss: 0.0351 - accuracy: 0.9896 - val_loss: 0.0370 - val_accuracy: 0.9873 - 18s/epoch - 59ms/step\n",
            "Epoch 6/10\n",
            "300/300 - 19s - loss: 0.0290 - accuracy: 0.9917 - val_loss: 0.0366 - val_accuracy: 0.9874 - 19s/epoch - 63ms/step\n",
            "Epoch 7/10\n",
            "300/300 - 19s - loss: 0.0237 - accuracy: 0.9927 - val_loss: 0.0363 - val_accuracy: 0.9882 - 19s/epoch - 63ms/step\n",
            "Epoch 8/10\n",
            "300/300 - 19s - loss: 0.0195 - accuracy: 0.9943 - val_loss: 0.0342 - val_accuracy: 0.9898 - 19s/epoch - 63ms/step\n",
            "Epoch 9/10\n",
            "300/300 - 18s - loss: 0.0165 - accuracy: 0.9945 - val_loss: 0.0340 - val_accuracy: 0.9886 - 18s/epoch - 59ms/step\n",
            "Epoch 10/10\n",
            "300/300 - 20s - loss: 0.0143 - accuracy: 0.9959 - val_loss: 0.0328 - val_accuracy: 0.9894 - 20s/epoch - 65ms/step\n",
            "Accuracy: 0.9894000291824341 \n",
            " Error: 1.0599970817565918\n"
          ]
        }
      ]
    },
    {
      "cell_type": "code",
      "source": [
        "#Let's redefine our convolutional model so that it has two convolutional and pooling layers instead of just one layer of\n",
        "\n",
        "def convolutional_model():\n",
        "\n",
        "    # create model\n",
        "    model = Sequential()\n",
        "    model.add(Conv2D(16, (5, 5), activation='relu', input_shape=(28, 28, 1)))\n",
        "    model.add(MaxPooling2D(pool_size=(2, 2), strides=(2, 2)))\n",
        "\n",
        "    model.add(Conv2D(8, (2, 2), activation='relu'))\n",
        "    model.add(MaxPooling2D(pool_size=(2, 2), strides=(2, 2)))\n",
        "\n",
        "    model.add(Flatten())\n",
        "    model.add(Dense(100, activation='relu'))\n",
        "    model.add(Dense(num_classes, activation='softmax'))\n",
        "\n",
        "    # Compile model\n",
        "    model.compile(optimizer='adam', loss='categorical_crossentropy',  metrics=['accuracy'])\n",
        "    return model"
      ],
      "metadata": {
        "id": "1__Cmrk8GiaN"
      },
      "execution_count": null,
      "outputs": []
    },
    {
      "cell_type": "code",
      "source": [
        "# build the model\n",
        "model = convolutional_model()\n",
        "\n",
        "# fit the model\n",
        "model.fit(X_train, y_train, validation_data=(X_test, y_test), epochs=10, batch_size=200, verbose=2)\n",
        "\n",
        "# evaluate the model\n",
        "scores = model.evaluate(X_test, y_test, verbose=0)\n",
        "print(\"Accuracy: {} \\n Error: {}\".format(scores[1], 100-scores[1]*100))"
      ],
      "metadata": {
        "colab": {
          "base_uri": "https://localhost:8080/"
        },
        "id": "FBNnE0mtHTEe",
        "outputId": "b33ba5d9-5c0e-4214-a617-52171c488052"
      },
      "execution_count": null,
      "outputs": [
        {
          "output_type": "stream",
          "name": "stdout",
          "text": [
            "Epoch 1/10\n",
            "300/300 - 24s - loss: 0.4733 - accuracy: 0.8645 - val_loss: 0.1226 - val_accuracy: 0.9619 - 24s/epoch - 80ms/step\n",
            "Epoch 2/10\n",
            "300/300 - 20s - loss: 0.1164 - accuracy: 0.9649 - val_loss: 0.0910 - val_accuracy: 0.9696 - 20s/epoch - 65ms/step\n",
            "Epoch 3/10\n",
            "300/300 - 20s - loss: 0.0858 - accuracy: 0.9743 - val_loss: 0.0681 - val_accuracy: 0.9790 - 20s/epoch - 65ms/step\n",
            "Epoch 4/10\n",
            "300/300 - 20s - loss: 0.0684 - accuracy: 0.9798 - val_loss: 0.0676 - val_accuracy: 0.9791 - 20s/epoch - 68ms/step\n",
            "Epoch 5/10\n",
            "300/300 - 19s - loss: 0.0597 - accuracy: 0.9826 - val_loss: 0.0536 - val_accuracy: 0.9832 - 19s/epoch - 63ms/step\n",
            "Epoch 6/10\n",
            "300/300 - 22s - loss: 0.0517 - accuracy: 0.9849 - val_loss: 0.0461 - val_accuracy: 0.9852 - 22s/epoch - 72ms/step\n",
            "Epoch 7/10\n",
            "300/300 - 21s - loss: 0.0459 - accuracy: 0.9858 - val_loss: 0.0471 - val_accuracy: 0.9846 - 21s/epoch - 71ms/step\n",
            "Epoch 8/10\n",
            "300/300 - 19s - loss: 0.0423 - accuracy: 0.9871 - val_loss: 0.0477 - val_accuracy: 0.9850 - 19s/epoch - 64ms/step\n",
            "Epoch 9/10\n",
            "300/300 - 20s - loss: 0.0376 - accuracy: 0.9885 - val_loss: 0.0385 - val_accuracy: 0.9882 - 20s/epoch - 67ms/step\n",
            "Epoch 10/10\n",
            "300/300 - 19s - loss: 0.0349 - accuracy: 0.9894 - val_loss: 0.0348 - val_accuracy: 0.9892 - 19s/epoch - 65ms/step\n",
            "Accuracy: 0.9891999959945679 \n",
            " Error: 1.080000400543213\n"
          ]
        }
      ]
    }
  ]
}